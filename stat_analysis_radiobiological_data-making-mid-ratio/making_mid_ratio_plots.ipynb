{
 "cells": [
  {
   "cell_type": "code",
   "execution_count": 2,
   "metadata": {
    "collapsed": true
   },
   "outputs": [],
   "source": [
    "import pandas as pd\n",
    "import seaborn"
   ]
  },
  {
   "cell_type": "code",
   "execution_count": 3,
   "metadata": {
    "collapsed": true
   },
   "outputs": [],
   "source": [
    "rst_colony = pd.read_excel('data/Bishayee Colony Counts 10.27.97-3.8.01.xlsx', header=1)\n",
    "rst_coulter = pd.read_excel('data/Bishayee Coulter Counts.10.20.97-7.16.01.xlsx', header=1)\n",
    "other_colony = pd.read_excel('data/Other Investigators in Lab.Colony Counts.4.23.92-11.27.02.xlsx', header=1)\n",
    "other_coulter = pd.read_excel('data/Other Investigators in Lab.Coulter Counts.4.15.92-5.21.05.xlsx', header=1)\n",
    "outside_1_coulter = pd.read_excel('data/Outside Lab 1.Coulter Counts.6.7.91-4.9.99.xlsx', header=1)\n",
    "outside_2_coulter = pd.read_excel('data/Outside Lab 2.Coulter Counts.6.6.08-7.7.08.xlsx', header=1)\n",
    "outside_3_colony = pd.read_excel('data/Outside Lab 3.Colony Counts.2.4.10-5.21.12.xlsx', header=1)"
   ]
  },
  {
   "cell_type": "code",
   "execution_count": 4,
   "metadata": {
    "collapsed": false
   },
   "outputs": [],
   "source": [
    "all_data = [rst_colony, rst_coulter, other_colony, other_coulter, outside_1_coulter, outside_2_coulter, outside_3_colony]"
   ]
  },
  {
   "cell_type": "code",
   "execution_count": 5,
   "metadata": {
    "collapsed": false
   },
   "outputs": [
    {
     "name": "stdout",
     "output_type": "stream",
     "text": [
      "   ISOTOPE  Bate # B0/B00       Date  col1  col2 col3    average\n",
      "0     131I           8405 1997-10-27    78    91   93  87.333333\n",
      "1  no DMSO           8405 1997-10-27    90    88   90  89.333333\n",
      "2      NaN           8405 1997-10-27    80    66   69  71.666667\n",
      "3      NaN           8405 1997-10-27    63    67   71  67.000000\n",
      "4      NaN           8405 1997-10-27    44    58   64  55.333333\n",
      "-------------------------------------------------------\n",
      "     Bates       Date  Count 1  Count 2  Count 3     Average\n",
      "0  B008404 1997-10-20      531      508    541.0  526.666667\n",
      "1  B008404 1997-10-20      650      626    595.0  623.666667\n",
      "2  B008404 1997-10-20      460      455    468.0  461.000000\n",
      "3  B008404 1997-10-20      550      530    538.0  539.333333\n",
      "4  B008404 1997-10-20      466      468    452.0  462.000000\n",
      "-------------------------------------------------------\n",
      "  Bates # B00 or B0       Date Inv  col1   col2 col3     average\n",
      "0               NaN 1992-04-23   I   266  247.0  262  258.333333\n",
      "1               NaN 1992-04-23   I   170  151.0  156  159.000000\n",
      "2               NaN 1992-04-23   I    66   66.0   56   62.666667\n",
      "3               NaN 1992-04-23   I    22   13.0   27   20.666667\n",
      "4               NaN 1992-04-23   I     1    1.0    4    2.000000\n",
      "-------------------------------------------------------\n",
      "  Bates No.       Date  Coul 1  Coul 2  Coul 3      Average Investigator\n",
      "0       NaN 1992-04-15  1547.0  1574.0  1523.0  1548.000000            I\n",
      "1       NaN 1992-04-15  1617.0  1552.0  1570.0  1579.666667            I\n",
      "2       NaN 1992-04-15  1258.0  1279.0  1284.0  1273.666667            I\n",
      "3       NaN 1992-04-15  1273.0  1313.0  1286.0  1290.666667            I\n",
      "4       NaN 1992-04-15  1071.0  1044.0  1044.0  1053.000000            I\n",
      "-------------------------------------------------------\n",
      "  Exp 1  2266  2321    2192  2259.6666666666665 1991-06-07 00:00:00\n",
      "0   NaN   676   554   478.0          569.333333                 NaN\n",
      "1   NaN   601   723   520.0          614.666667                 NaN\n",
      "2   NaN   582   516   881.0          659.666667                 NaN\n",
      "3   NaN  3200  2719  3747.0         3222.000000                 NaN\n",
      "4   NaN   425   626   785.0          612.000000                 NaN\n",
      "-------------------------------------------------------\n",
      "       Date  Count 1  Count 2  Count 3      Average\n",
      "0  6.6.2008     5868     5838     5691  5799.000000\n",
      "1       NaN     3451     3343     3315  3369.666667\n",
      "2       NaN     4844     4854     4695  4797.666667\n",
      "3   6.10.08     4851     4549     4532  4644.000000\n",
      "4       NaN     3010     3018     2982  3003.333333\n",
      "-------------------------------------------------------\n",
      "        date  c1  c2  c3    average\n",
      "0 2010-02-04  54  55  59  56.000000\n",
      "1        NaT  47  60  47  51.333333\n",
      "2 2010-02-05  55  60  53  56.000000\n",
      "3        NaT  58  54  59  57.000000\n",
      "4        NaT  17  17  15  16.333333\n",
      "-------------------------------------------------------\n"
     ]
    }
   ],
   "source": [
    "for df in all_data: \n",
    "    print(df.head(5))\n",
    "    print('-------------------------------------------------------')"
   ]
  },
  {
   "cell_type": "code",
   "execution_count": 6,
   "metadata": {
    "collapsed": false
   },
   "outputs": [],
   "source": [
    "rst_colony[['col1', 'col2','col3']] = rst_colony[['col1', 'col2', 'col3']].apply(pd.to_numeric, errors='coerce')"
   ]
  },
  {
   "cell_type": "code",
   "execution_count": 7,
   "metadata": {
    "collapsed": false
   },
   "outputs": [],
   "source": [
    "rst_colony['Minimum'] = rst_colony.loc[:, ['col1', 'col2', 'col3']].min(axis=1)\n",
    "rst_colony['Maximum'] = rst_colony.loc[:, ['col1', 'col2', 'col3']].max(axis=1)\n",
    "rst_colony['Median'] = rst_colony.loc[:, ['col1', 'col2', 'col3']].median(axis=1)"
   ]
  },
  {
   "cell_type": "code",
   "execution_count": 8,
   "metadata": {
    "collapsed": true
   },
   "outputs": [],
   "source": [
    "rst_colony['Mid Ratios'] = (rst_colony['Maximum'] - rst_colony['Median'])/(rst_colony['Maximum'] - rst_colony['Minimum'])"
   ]
  },
  {
   "cell_type": "code",
   "execution_count": 9,
   "metadata": {
    "collapsed": false
   },
   "outputs": [
    {
     "data": {
      "text/html": [
       "<div>\n",
       "<table border=\"1\" class=\"dataframe\">\n",
       "  <thead>\n",
       "    <tr style=\"text-align: right;\">\n",
       "      <th></th>\n",
       "      <th>ISOTOPE</th>\n",
       "      <th>Bate # B0/B00</th>\n",
       "      <th>Date</th>\n",
       "      <th>col1</th>\n",
       "      <th>col2</th>\n",
       "      <th>col3</th>\n",
       "      <th>average</th>\n",
       "      <th>Minimum</th>\n",
       "      <th>Maximum</th>\n",
       "      <th>Median</th>\n",
       "      <th>Mid Ratios</th>\n",
       "    </tr>\n",
       "  </thead>\n",
       "  <tbody>\n",
       "    <tr>\n",
       "      <th>0</th>\n",
       "      <td>131I</td>\n",
       "      <td>8405</td>\n",
       "      <td>1997-10-27</td>\n",
       "      <td>78</td>\n",
       "      <td>91</td>\n",
       "      <td>93.0</td>\n",
       "      <td>87.333333</td>\n",
       "      <td>78.0</td>\n",
       "      <td>93.0</td>\n",
       "      <td>91.0</td>\n",
       "      <td>0.133333</td>\n",
       "    </tr>\n",
       "    <tr>\n",
       "      <th>1</th>\n",
       "      <td>no DMSO</td>\n",
       "      <td>8405</td>\n",
       "      <td>1997-10-27</td>\n",
       "      <td>90</td>\n",
       "      <td>88</td>\n",
       "      <td>90.0</td>\n",
       "      <td>89.333333</td>\n",
       "      <td>88.0</td>\n",
       "      <td>90.0</td>\n",
       "      <td>90.0</td>\n",
       "      <td>0.000000</td>\n",
       "    </tr>\n",
       "    <tr>\n",
       "      <th>2</th>\n",
       "      <td>NaN</td>\n",
       "      <td>8405</td>\n",
       "      <td>1997-10-27</td>\n",
       "      <td>80</td>\n",
       "      <td>66</td>\n",
       "      <td>69.0</td>\n",
       "      <td>71.666667</td>\n",
       "      <td>66.0</td>\n",
       "      <td>80.0</td>\n",
       "      <td>69.0</td>\n",
       "      <td>0.785714</td>\n",
       "    </tr>\n",
       "    <tr>\n",
       "      <th>3</th>\n",
       "      <td>NaN</td>\n",
       "      <td>8405</td>\n",
       "      <td>1997-10-27</td>\n",
       "      <td>63</td>\n",
       "      <td>67</td>\n",
       "      <td>71.0</td>\n",
       "      <td>67.000000</td>\n",
       "      <td>63.0</td>\n",
       "      <td>71.0</td>\n",
       "      <td>67.0</td>\n",
       "      <td>0.500000</td>\n",
       "    </tr>\n",
       "    <tr>\n",
       "      <th>4</th>\n",
       "      <td>NaN</td>\n",
       "      <td>8405</td>\n",
       "      <td>1997-10-27</td>\n",
       "      <td>44</td>\n",
       "      <td>58</td>\n",
       "      <td>64.0</td>\n",
       "      <td>55.333333</td>\n",
       "      <td>44.0</td>\n",
       "      <td>64.0</td>\n",
       "      <td>58.0</td>\n",
       "      <td>0.300000</td>\n",
       "    </tr>\n",
       "    <tr>\n",
       "      <th>5</th>\n",
       "      <td>NaN</td>\n",
       "      <td>8405</td>\n",
       "      <td>1997-10-27</td>\n",
       "      <td>38</td>\n",
       "      <td>53</td>\n",
       "      <td>51.0</td>\n",
       "      <td>47.333333</td>\n",
       "      <td>38.0</td>\n",
       "      <td>53.0</td>\n",
       "      <td>51.0</td>\n",
       "      <td>0.133333</td>\n",
       "    </tr>\n",
       "    <tr>\n",
       "      <th>6</th>\n",
       "      <td>NaN</td>\n",
       "      <td>8405</td>\n",
       "      <td>1997-10-27</td>\n",
       "      <td>247</td>\n",
       "      <td>264</td>\n",
       "      <td>258.0</td>\n",
       "      <td>256.333333</td>\n",
       "      <td>247.0</td>\n",
       "      <td>264.0</td>\n",
       "      <td>258.0</td>\n",
       "      <td>0.352941</td>\n",
       "    </tr>\n",
       "    <tr>\n",
       "      <th>7</th>\n",
       "      <td>NaN</td>\n",
       "      <td>8405</td>\n",
       "      <td>1997-10-27</td>\n",
       "      <td>46</td>\n",
       "      <td>24</td>\n",
       "      <td>27.0</td>\n",
       "      <td>32.333333</td>\n",
       "      <td>24.0</td>\n",
       "      <td>46.0</td>\n",
       "      <td>27.0</td>\n",
       "      <td>0.863636</td>\n",
       "    </tr>\n",
       "    <tr>\n",
       "      <th>8</th>\n",
       "      <td>NaN</td>\n",
       "      <td>8405</td>\n",
       "      <td>1997-10-27</td>\n",
       "      <td>64</td>\n",
       "      <td>63</td>\n",
       "      <td>61.0</td>\n",
       "      <td>62.666667</td>\n",
       "      <td>61.0</td>\n",
       "      <td>64.0</td>\n",
       "      <td>63.0</td>\n",
       "      <td>0.333333</td>\n",
       "    </tr>\n",
       "    <tr>\n",
       "      <th>9</th>\n",
       "      <td>NaN</td>\n",
       "      <td>8405</td>\n",
       "      <td>1997-10-27</td>\n",
       "      <td>77</td>\n",
       "      <td>82</td>\n",
       "      <td>98.0</td>\n",
       "      <td>85.666667</td>\n",
       "      <td>77.0</td>\n",
       "      <td>98.0</td>\n",
       "      <td>82.0</td>\n",
       "      <td>0.761905</td>\n",
       "    </tr>\n",
       "    <tr>\n",
       "      <th>10</th>\n",
       "      <td>131I</td>\n",
       "      <td>8433</td>\n",
       "      <td>1997-11-24</td>\n",
       "      <td>115</td>\n",
       "      <td>98</td>\n",
       "      <td>109.0</td>\n",
       "      <td>107.333333</td>\n",
       "      <td>98.0</td>\n",
       "      <td>115.0</td>\n",
       "      <td>109.0</td>\n",
       "      <td>0.352941</td>\n",
       "    </tr>\n",
       "    <tr>\n",
       "      <th>11</th>\n",
       "      <td>NaN</td>\n",
       "      <td>8433</td>\n",
       "      <td>1997-11-24</td>\n",
       "      <td>87</td>\n",
       "      <td>95</td>\n",
       "      <td>98.0</td>\n",
       "      <td>93.333333</td>\n",
       "      <td>87.0</td>\n",
       "      <td>98.0</td>\n",
       "      <td>95.0</td>\n",
       "      <td>0.272727</td>\n",
       "    </tr>\n",
       "    <tr>\n",
       "      <th>12</th>\n",
       "      <td>NaN</td>\n",
       "      <td>8433</td>\n",
       "      <td>1997-11-24</td>\n",
       "      <td>41</td>\n",
       "      <td>31</td>\n",
       "      <td>38.0</td>\n",
       "      <td>36.666667</td>\n",
       "      <td>31.0</td>\n",
       "      <td>41.0</td>\n",
       "      <td>38.0</td>\n",
       "      <td>0.300000</td>\n",
       "    </tr>\n",
       "    <tr>\n",
       "      <th>13</th>\n",
       "      <td>NaN</td>\n",
       "      <td>8433</td>\n",
       "      <td>1997-11-24</td>\n",
       "      <td>146</td>\n",
       "      <td>155</td>\n",
       "      <td>178.0</td>\n",
       "      <td>159.666667</td>\n",
       "      <td>146.0</td>\n",
       "      <td>178.0</td>\n",
       "      <td>155.0</td>\n",
       "      <td>0.718750</td>\n",
       "    </tr>\n",
       "    <tr>\n",
       "      <th>14</th>\n",
       "      <td>NaN</td>\n",
       "      <td>8433</td>\n",
       "      <td>1997-11-24</td>\n",
       "      <td>112</td>\n",
       "      <td>105</td>\n",
       "      <td>104.0</td>\n",
       "      <td>107.000000</td>\n",
       "      <td>104.0</td>\n",
       "      <td>112.0</td>\n",
       "      <td>105.0</td>\n",
       "      <td>0.875000</td>\n",
       "    </tr>\n",
       "    <tr>\n",
       "      <th>15</th>\n",
       "      <td>NaN</td>\n",
       "      <td>8433</td>\n",
       "      <td>1997-11-24</td>\n",
       "      <td>117</td>\n",
       "      <td>143</td>\n",
       "      <td>136.0</td>\n",
       "      <td>132.000000</td>\n",
       "      <td>117.0</td>\n",
       "      <td>143.0</td>\n",
       "      <td>136.0</td>\n",
       "      <td>0.269231</td>\n",
       "    </tr>\n",
       "    <tr>\n",
       "      <th>16</th>\n",
       "      <td>NaN</td>\n",
       "      <td>8433</td>\n",
       "      <td>1997-11-24</td>\n",
       "      <td>117</td>\n",
       "      <td>133</td>\n",
       "      <td>114.0</td>\n",
       "      <td>121.333333</td>\n",
       "      <td>114.0</td>\n",
       "      <td>133.0</td>\n",
       "      <td>117.0</td>\n",
       "      <td>0.842105</td>\n",
       "    </tr>\n",
       "    <tr>\n",
       "      <th>17</th>\n",
       "      <td>NaN</td>\n",
       "      <td>8433</td>\n",
       "      <td>1997-11-24</td>\n",
       "      <td>38</td>\n",
       "      <td>57</td>\n",
       "      <td>53.0</td>\n",
       "      <td>49.333333</td>\n",
       "      <td>38.0</td>\n",
       "      <td>57.0</td>\n",
       "      <td>53.0</td>\n",
       "      <td>0.210526</td>\n",
       "    </tr>\n",
       "    <tr>\n",
       "      <th>18</th>\n",
       "      <td>NaN</td>\n",
       "      <td>8433</td>\n",
       "      <td>1997-11-24</td>\n",
       "      <td>170</td>\n",
       "      <td>171</td>\n",
       "      <td>176.0</td>\n",
       "      <td>172.333333</td>\n",
       "      <td>170.0</td>\n",
       "      <td>176.0</td>\n",
       "      <td>171.0</td>\n",
       "      <td>0.833333</td>\n",
       "    </tr>\n",
       "    <tr>\n",
       "      <th>19</th>\n",
       "      <td>NaN</td>\n",
       "      <td>8433</td>\n",
       "      <td>1997-11-24</td>\n",
       "      <td>102</td>\n",
       "      <td>108</td>\n",
       "      <td>NaN</td>\n",
       "      <td>105.000000</td>\n",
       "      <td>102.0</td>\n",
       "      <td>108.0</td>\n",
       "      <td>105.0</td>\n",
       "      <td>0.500000</td>\n",
       "    </tr>\n",
       "  </tbody>\n",
       "</table>\n",
       "</div>"
      ],
      "text/plain": [
       "    ISOTOPE  Bate # B0/B00       Date  col1  col2   col3     average  Minimum  \\\n",
       "0      131I           8405 1997-10-27    78    91   93.0   87.333333     78.0   \n",
       "1   no DMSO           8405 1997-10-27    90    88   90.0   89.333333     88.0   \n",
       "2       NaN           8405 1997-10-27    80    66   69.0   71.666667     66.0   \n",
       "3       NaN           8405 1997-10-27    63    67   71.0   67.000000     63.0   \n",
       "4       NaN           8405 1997-10-27    44    58   64.0   55.333333     44.0   \n",
       "5       NaN           8405 1997-10-27    38    53   51.0   47.333333     38.0   \n",
       "6       NaN           8405 1997-10-27   247   264  258.0  256.333333    247.0   \n",
       "7       NaN           8405 1997-10-27    46    24   27.0   32.333333     24.0   \n",
       "8       NaN           8405 1997-10-27    64    63   61.0   62.666667     61.0   \n",
       "9       NaN           8405 1997-10-27    77    82   98.0   85.666667     77.0   \n",
       "10     131I           8433 1997-11-24   115    98  109.0  107.333333     98.0   \n",
       "11      NaN           8433 1997-11-24    87    95   98.0   93.333333     87.0   \n",
       "12      NaN           8433 1997-11-24    41    31   38.0   36.666667     31.0   \n",
       "13      NaN           8433 1997-11-24   146   155  178.0  159.666667    146.0   \n",
       "14      NaN           8433 1997-11-24   112   105  104.0  107.000000    104.0   \n",
       "15      NaN           8433 1997-11-24   117   143  136.0  132.000000    117.0   \n",
       "16      NaN           8433 1997-11-24   117   133  114.0  121.333333    114.0   \n",
       "17      NaN           8433 1997-11-24    38    57   53.0   49.333333     38.0   \n",
       "18      NaN           8433 1997-11-24   170   171  176.0  172.333333    170.0   \n",
       "19      NaN           8433 1997-11-24   102   108    NaN  105.000000    102.0   \n",
       "\n",
       "    Maximum  Median  Mid Ratios  \n",
       "0      93.0    91.0    0.133333  \n",
       "1      90.0    90.0    0.000000  \n",
       "2      80.0    69.0    0.785714  \n",
       "3      71.0    67.0    0.500000  \n",
       "4      64.0    58.0    0.300000  \n",
       "5      53.0    51.0    0.133333  \n",
       "6     264.0   258.0    0.352941  \n",
       "7      46.0    27.0    0.863636  \n",
       "8      64.0    63.0    0.333333  \n",
       "9      98.0    82.0    0.761905  \n",
       "10    115.0   109.0    0.352941  \n",
       "11     98.0    95.0    0.272727  \n",
       "12     41.0    38.0    0.300000  \n",
       "13    178.0   155.0    0.718750  \n",
       "14    112.0   105.0    0.875000  \n",
       "15    143.0   136.0    0.269231  \n",
       "16    133.0   117.0    0.842105  \n",
       "17     57.0    53.0    0.210526  \n",
       "18    176.0   171.0    0.833333  \n",
       "19    108.0   105.0    0.500000  "
      ]
     },
     "execution_count": 9,
     "metadata": {},
     "output_type": "execute_result"
    }
   ],
   "source": [
    "rst_colony.head(20)"
   ]
  },
  {
   "cell_type": "code",
   "execution_count": 10,
   "metadata": {
    "collapsed": false
   },
   "outputs": [
    {
     "data": {
      "text/plain": [
       "1330"
      ]
     },
     "execution_count": 10,
     "metadata": {},
     "output_type": "execute_result"
    }
   ],
   "source": [
    "len(rst_colony[(rst_colony['Mid Ratios'] > 0.0) & (rst_colony['Mid Ratios'] < 1)]['Mid Ratios'])"
   ]
  },
  {
   "cell_type": "code",
   "execution_count": 11,
   "metadata": {
    "collapsed": false
   },
   "outputs": [],
   "source": [
    "rst_final = rst_colony[rst_colony['Mid Ratios'] > 0.0]"
   ]
  },
  {
   "cell_type": "markdown",
   "metadata": {},
   "source": [
    "# Naively making the histogram"
   ]
  },
  {
   "cell_type": "code",
   "execution_count": 12,
   "metadata": {
    "collapsed": false
   },
   "outputs": [
    {
     "data": {
      "text/plain": [
       "array([[<matplotlib.axes._subplots.AxesSubplot object at 0x114faed68>]], dtype=object)"
      ]
     },
     "execution_count": 12,
     "metadata": {},
     "output_type": "execute_result"
    },
    {
     "data": {
      "image/png": "[encoded data removed]",
      "text/plain": [
       "<matplotlib.figure.Figure at 0x11422fd68>"
      ]
     },
     "metadata": {},
     "output_type": "display_data"
    }
   ],
   "source": [
    "import matplotlib.pyplot as plt\n",
    "#import seaborn\n",
    "\n",
    "%matplotlib inline\n",
    "\n",
    "rst_final.hist(column='Mid Ratios', bins=11)"
   ]
  },
  {
   "cell_type": "code",
   "execution_count": 13,
   "metadata": {
    "collapsed": false
   },
   "outputs": [],
   "source": [
    "import numpy as np\n",
    "bins = np.arange(0.05,1.15, 0.1) "
   ]
  },
  {
   "cell_type": "markdown",
   "metadata": {},
   "source": [
    "# Playing with the binning\n",
    "\n",
    "The histograms are still not quite identical. I can't get to the 572 data points for the other investigators that the authors have arrived at. "
   ]
  },
  {
   "cell_type": "code",
   "execution_count": 14,
   "metadata": {
    "collapsed": false
   },
   "outputs": [
    {
     "data": {
      "image/png": "[encoded data removed]",
      "text/plain": [
       "<matplotlib.figure.Figure at 0x114fd2a20>"
      ]
     },
     "metadata": {},
     "output_type": "display_data"
    }
   ],
   "source": [
    "#plt.hist( bins=bins, normed=True)\n",
    "#plt.title('Mid-Ratios f')\n",
    "\n",
    "hist, bins = np.histogram(list(rst_final['Mid Ratios']), bins=np.arange(0.05,1.15, 0.1), normed=True)\n",
    "width = 0.7 * (bins[1] - bins[0])\n",
    "center = (np.arange(0.1,1.1, 0.1) ) \n",
    "plt.bar(center, hist, align='center', width=width)\n",
    "plt.ylim(0, 5.)\n",
    "plt.title('Mid-Ratios for RST', size=15)\n",
    "plt.show()"
   ]
  },
  {
   "cell_type": "code",
   "execution_count": 15,
   "metadata": {
    "collapsed": false
   },
   "outputs": [],
   "source": [
    "other_colony[['col1', 'col2','col3', 'average']] = other_colony[['col1', 'col2', 'col3', 'average']].apply(pd.to_numeric, errors='coerce')"
   ]
  },
  {
   "cell_type": "code",
   "execution_count": 16,
   "metadata": {
    "collapsed": true
   },
   "outputs": [],
   "source": [
    "other_colony['Minimum'] = other_colony.loc[:, ['col1', 'col2', 'col3']].min(axis=1)\n",
    "other_colony['Maximum'] = other_colony.loc[:, ['col1', 'col2', 'col3']].max(axis=1)\n",
    "other_colony['Median'] = other_colony.loc[:, ['col1', 'col2', 'col3']].median(axis=1)"
   ]
  },
  {
   "cell_type": "code",
   "execution_count": 17,
   "metadata": {
    "collapsed": true
   },
   "outputs": [],
   "source": [
    "other_colony['Mid Ratios'] = (other_colony['Maximum'] - other_colony['Median'])/(other_colony['Maximum'] - other_colony['Minimum'])"
   ]
  },
  {
   "cell_type": "code",
   "execution_count": 18,
   "metadata": {
    "collapsed": false
   },
   "outputs": [
    {
     "data": {
      "text/plain": [
       "621"
      ]
     },
     "execution_count": 18,
     "metadata": {},
     "output_type": "execute_result"
    }
   ],
   "source": [
    "len(other_colony['Mid Ratios'])"
   ]
  },
  {
   "cell_type": "code",
   "execution_count": 20,
   "metadata": {
    "collapsed": false
   },
   "outputs": [
    {
     "ename": "NameError",
     "evalue": "name 'other_final' is not defined",
     "output_type": "error",
     "traceback": [
      "\u001b[0;31m---------------------------------------------------------------------------\u001b[0m",
      "\u001b[0;31mNameError\u001b[0m                                 Traceback (most recent call last)",
      "\u001b[0;32m<ipython-input-20-28d061c7ce29>\u001b[0m in \u001b[0;36m<module>\u001b[0;34m()\u001b[0m\n\u001b[0;32m----> 1\u001b[0;31m \u001b[0mhist\u001b[0m\u001b[0;34m,\u001b[0m \u001b[0mbins\u001b[0m \u001b[0;34m=\u001b[0m \u001b[0mnp\u001b[0m\u001b[0;34m.\u001b[0m\u001b[0mhistogram\u001b[0m\u001b[0;34m(\u001b[0m\u001b[0mlist\u001b[0m\u001b[0;34m(\u001b[0m\u001b[0mother_final\u001b[0m\u001b[0;34m[\u001b[0m\u001b[0;34m'Mid Ratios'\u001b[0m\u001b[0;34m]\u001b[0m\u001b[0;34m)\u001b[0m\u001b[0;34m,\u001b[0m \u001b[0mbins\u001b[0m\u001b[0;34m=\u001b[0m\u001b[0mnp\u001b[0m\u001b[0;34m.\u001b[0m\u001b[0marange\u001b[0m\u001b[0;34m(\u001b[0m\u001b[0;36m0.05\u001b[0m\u001b[0;34m,\u001b[0m\u001b[0;36m1.15\u001b[0m\u001b[0;34m,\u001b[0m \u001b[0;36m0.1\u001b[0m\u001b[0;34m)\u001b[0m\u001b[0;34m,\u001b[0m \u001b[0mnormed\u001b[0m\u001b[0;34m=\u001b[0m\u001b[0;32mTrue\u001b[0m\u001b[0;34m)\u001b[0m\u001b[0;34m\u001b[0m\u001b[0m\n\u001b[0m\u001b[1;32m      2\u001b[0m \u001b[0mwidth\u001b[0m \u001b[0;34m=\u001b[0m \u001b[0;36m0.7\u001b[0m \u001b[0;34m*\u001b[0m \u001b[0;34m(\u001b[0m\u001b[0mbins\u001b[0m\u001b[0;34m[\u001b[0m\u001b[0;36m1\u001b[0m\u001b[0;34m]\u001b[0m \u001b[0;34m-\u001b[0m \u001b[0mbins\u001b[0m\u001b[0;34m[\u001b[0m\u001b[0;36m0\u001b[0m\u001b[0;34m]\u001b[0m\u001b[0;34m)\u001b[0m\u001b[0;34m\u001b[0m\u001b[0m\n\u001b[1;32m      3\u001b[0m \u001b[0mcenter\u001b[0m \u001b[0;34m=\u001b[0m \u001b[0;34m(\u001b[0m\u001b[0mnp\u001b[0m\u001b[0;34m.\u001b[0m\u001b[0marange\u001b[0m\u001b[0;34m(\u001b[0m\u001b[0;36m0.1\u001b[0m\u001b[0;34m,\u001b[0m\u001b[0;36m1.1\u001b[0m\u001b[0;34m,\u001b[0m \u001b[0;36m0.1\u001b[0m\u001b[0;34m)\u001b[0m \u001b[0;34m)\u001b[0m\u001b[0;34m\u001b[0m\u001b[0m\n\u001b[1;32m      4\u001b[0m \u001b[0mplt\u001b[0m\u001b[0;34m.\u001b[0m\u001b[0mbar\u001b[0m\u001b[0;34m(\u001b[0m\u001b[0mcenter\u001b[0m\u001b[0;34m,\u001b[0m \u001b[0mhist\u001b[0m\u001b[0;34m,\u001b[0m \u001b[0malign\u001b[0m\u001b[0;34m=\u001b[0m\u001b[0;34m'center'\u001b[0m\u001b[0;34m,\u001b[0m \u001b[0mwidth\u001b[0m\u001b[0;34m=\u001b[0m\u001b[0mwidth\u001b[0m\u001b[0;34m)\u001b[0m\u001b[0;34m\u001b[0m\u001b[0m\n\u001b[1;32m      5\u001b[0m \u001b[0mplt\u001b[0m\u001b[0;34m.\u001b[0m\u001b[0mylim\u001b[0m\u001b[0;34m(\u001b[0m\u001b[0;36m0\u001b[0m\u001b[0;34m,\u001b[0m\u001b[0;36m5\u001b[0m\u001b[0;34m)\u001b[0m\u001b[0;34m\u001b[0m\u001b[0m\n",
      "\u001b[0;31mNameError\u001b[0m: name 'other_final' is not defined"
     ]
    }
   ],
   "source": [
    "hist, bins = np.histogram(list(other_final['Mid Ratios']), bins=np.arange(0.05,1.15, 0.1), normed=True)\n",
    "width = 0.7 * (bins[1] - bins[0])\n",
    "center = (np.arange(0.1,1.1, 0.1) ) \n",
    "plt.bar(center, hist, align='center', width=width)\n",
    "plt.ylim(0,5)\n",
    "plt.show()\n"
   ]
  },
  {
   "cell_type": "code",
   "execution_count": 21,
   "metadata": {
    "collapsed": false
   },
   "outputs": [
    {
     "ename": "NameError",
     "evalue": "name 'other_final' is not defined",
     "output_type": "error",
     "traceback": [
      "\u001b[0;31m---------------------------------------------------------------------------\u001b[0m",
      "\u001b[0;31mNameError\u001b[0m                                 Traceback (most recent call last)",
      "\u001b[0;32m<ipython-input-21-28d061c7ce29>\u001b[0m in \u001b[0;36m<module>\u001b[0;34m()\u001b[0m\n\u001b[0;32m----> 1\u001b[0;31m \u001b[0mhist\u001b[0m\u001b[0;34m,\u001b[0m \u001b[0mbins\u001b[0m \u001b[0;34m=\u001b[0m \u001b[0mnp\u001b[0m\u001b[0;34m.\u001b[0m\u001b[0mhistogram\u001b[0m\u001b[0;34m(\u001b[0m\u001b[0mlist\u001b[0m\u001b[0;34m(\u001b[0m\u001b[0mother_final\u001b[0m\u001b[0;34m[\u001b[0m\u001b[0;34m'Mid Ratios'\u001b[0m\u001b[0;34m]\u001b[0m\u001b[0;34m)\u001b[0m\u001b[0;34m,\u001b[0m \u001b[0mbins\u001b[0m\u001b[0;34m=\u001b[0m\u001b[0mnp\u001b[0m\u001b[0;34m.\u001b[0m\u001b[0marange\u001b[0m\u001b[0;34m(\u001b[0m\u001b[0;36m0.05\u001b[0m\u001b[0;34m,\u001b[0m\u001b[0;36m1.15\u001b[0m\u001b[0;34m,\u001b[0m \u001b[0;36m0.1\u001b[0m\u001b[0;34m)\u001b[0m\u001b[0;34m,\u001b[0m \u001b[0mnormed\u001b[0m\u001b[0;34m=\u001b[0m\u001b[0;32mTrue\u001b[0m\u001b[0;34m)\u001b[0m\u001b[0;34m\u001b[0m\u001b[0m\n\u001b[0m\u001b[1;32m      2\u001b[0m \u001b[0mwidth\u001b[0m \u001b[0;34m=\u001b[0m \u001b[0;36m0.7\u001b[0m \u001b[0;34m*\u001b[0m \u001b[0;34m(\u001b[0m\u001b[0mbins\u001b[0m\u001b[0;34m[\u001b[0m\u001b[0;36m1\u001b[0m\u001b[0;34m]\u001b[0m \u001b[0;34m-\u001b[0m \u001b[0mbins\u001b[0m\u001b[0;34m[\u001b[0m\u001b[0;36m0\u001b[0m\u001b[0;34m]\u001b[0m\u001b[0;34m)\u001b[0m\u001b[0;34m\u001b[0m\u001b[0m\n\u001b[1;32m      3\u001b[0m \u001b[0mcenter\u001b[0m \u001b[0;34m=\u001b[0m \u001b[0;34m(\u001b[0m\u001b[0mnp\u001b[0m\u001b[0;34m.\u001b[0m\u001b[0marange\u001b[0m\u001b[0;34m(\u001b[0m\u001b[0;36m0.1\u001b[0m\u001b[0;34m,\u001b[0m\u001b[0;36m1.1\u001b[0m\u001b[0;34m,\u001b[0m \u001b[0;36m0.1\u001b[0m\u001b[0;34m)\u001b[0m \u001b[0;34m)\u001b[0m\u001b[0;34m\u001b[0m\u001b[0m\n\u001b[1;32m      4\u001b[0m \u001b[0mplt\u001b[0m\u001b[0;34m.\u001b[0m\u001b[0mbar\u001b[0m\u001b[0;34m(\u001b[0m\u001b[0mcenter\u001b[0m\u001b[0;34m,\u001b[0m \u001b[0mhist\u001b[0m\u001b[0;34m,\u001b[0m \u001b[0malign\u001b[0m\u001b[0;34m=\u001b[0m\u001b[0;34m'center'\u001b[0m\u001b[0;34m,\u001b[0m \u001b[0mwidth\u001b[0m\u001b[0;34m=\u001b[0m\u001b[0mwidth\u001b[0m\u001b[0;34m)\u001b[0m\u001b[0;34m\u001b[0m\u001b[0m\n\u001b[1;32m      5\u001b[0m \u001b[0mplt\u001b[0m\u001b[0;34m.\u001b[0m\u001b[0mylim\u001b[0m\u001b[0;34m(\u001b[0m\u001b[0;36m0\u001b[0m\u001b[0;34m,\u001b[0m\u001b[0;36m5\u001b[0m\u001b[0;34m)\u001b[0m\u001b[0;34m\u001b[0m\u001b[0m\n",
      "\u001b[0;31mNameError\u001b[0m: name 'other_final' is not defined"
     ]
    }
   ],
   "source": [
    "hist, bins = np.histogram(list(other_final['Mid Ratios']), bins=np.arange(0.05,1.15, 0.1), normed=True)\n",
    "width = 0.7 * (bins[1] - bins[0])\n",
    "center = (np.arange(0.1,1.1, 0.1) ) \n",
    "plt.bar(center, hist, align='center', width=width)\n",
    "plt.ylim(0,5)\n",
    "plt.show()"
   ]
  },
  {
   "cell_type": "code",
   "execution_count": 22,
   "metadata": {
    "collapsed": false
   },
   "outputs": [
    {
     "data": {
      "text/html": [
       "<div>\n",
       "<table border=\"1\" class=\"dataframe\">\n",
       "  <thead>\n",
       "    <tr style=\"text-align: right;\">\n",
       "      <th></th>\n",
       "      <th>Bates # B00 or B0</th>\n",
       "      <th>Date</th>\n",
       "      <th>Inv</th>\n",
       "      <th>col1</th>\n",
       "      <th>col2</th>\n",
       "      <th>col3</th>\n",
       "      <th>average</th>\n",
       "      <th>Minimum</th>\n",
       "      <th>Maximum</th>\n",
       "      <th>Median</th>\n",
       "      <th>Mid Ratios</th>\n",
       "    </tr>\n",
       "  </thead>\n",
       "  <tbody>\n",
       "    <tr>\n",
       "      <th>0</th>\n",
       "      <td>NaN</td>\n",
       "      <td>1992-04-23</td>\n",
       "      <td>I</td>\n",
       "      <td>266</td>\n",
       "      <td>247.0</td>\n",
       "      <td>262.0</td>\n",
       "      <td>258.333333</td>\n",
       "      <td>247.0</td>\n",
       "      <td>266.0</td>\n",
       "      <td>262.0</td>\n",
       "      <td>0.210526</td>\n",
       "    </tr>\n",
       "    <tr>\n",
       "      <th>1</th>\n",
       "      <td>NaN</td>\n",
       "      <td>1992-04-23</td>\n",
       "      <td>I</td>\n",
       "      <td>170</td>\n",
       "      <td>151.0</td>\n",
       "      <td>156.0</td>\n",
       "      <td>159.000000</td>\n",
       "      <td>151.0</td>\n",
       "      <td>170.0</td>\n",
       "      <td>156.0</td>\n",
       "      <td>0.736842</td>\n",
       "    </tr>\n",
       "    <tr>\n",
       "      <th>3</th>\n",
       "      <td>NaN</td>\n",
       "      <td>1992-04-23</td>\n",
       "      <td>I</td>\n",
       "      <td>22</td>\n",
       "      <td>13.0</td>\n",
       "      <td>27.0</td>\n",
       "      <td>20.666667</td>\n",
       "      <td>13.0</td>\n",
       "      <td>27.0</td>\n",
       "      <td>22.0</td>\n",
       "      <td>0.357143</td>\n",
       "    </tr>\n",
       "    <tr>\n",
       "      <th>4</th>\n",
       "      <td>NaN</td>\n",
       "      <td>1992-04-23</td>\n",
       "      <td>I</td>\n",
       "      <td>1</td>\n",
       "      <td>1.0</td>\n",
       "      <td>4.0</td>\n",
       "      <td>2.000000</td>\n",
       "      <td>1.0</td>\n",
       "      <td>4.0</td>\n",
       "      <td>1.0</td>\n",
       "      <td>1.000000</td>\n",
       "    </tr>\n",
       "    <tr>\n",
       "      <th>5</th>\n",
       "      <td>NaN</td>\n",
       "      <td>1992-04-23</td>\n",
       "      <td>I</td>\n",
       "      <td>10</td>\n",
       "      <td>13.0</td>\n",
       "      <td>12.0</td>\n",
       "      <td>11.666667</td>\n",
       "      <td>10.0</td>\n",
       "      <td>13.0</td>\n",
       "      <td>12.0</td>\n",
       "      <td>0.333333</td>\n",
       "    </tr>\n",
       "    <tr>\n",
       "      <th>6</th>\n",
       "      <td>NaN</td>\n",
       "      <td>1992-04-23</td>\n",
       "      <td>I</td>\n",
       "      <td>320</td>\n",
       "      <td>311.0</td>\n",
       "      <td>312.0</td>\n",
       "      <td>314.333333</td>\n",
       "      <td>311.0</td>\n",
       "      <td>320.0</td>\n",
       "      <td>312.0</td>\n",
       "      <td>0.888889</td>\n",
       "    </tr>\n",
       "    <tr>\n",
       "      <th>7</th>\n",
       "      <td>NaN</td>\n",
       "      <td>1992-04-23</td>\n",
       "      <td>I</td>\n",
       "      <td>194</td>\n",
       "      <td>192.0</td>\n",
       "      <td>203.0</td>\n",
       "      <td>196.333333</td>\n",
       "      <td>192.0</td>\n",
       "      <td>203.0</td>\n",
       "      <td>194.0</td>\n",
       "      <td>0.818182</td>\n",
       "    </tr>\n",
       "    <tr>\n",
       "      <th>8</th>\n",
       "      <td>NaN</td>\n",
       "      <td>1992-04-23</td>\n",
       "      <td>I</td>\n",
       "      <td>238</td>\n",
       "      <td>228.0</td>\n",
       "      <td>215.0</td>\n",
       "      <td>227.000000</td>\n",
       "      <td>215.0</td>\n",
       "      <td>238.0</td>\n",
       "      <td>228.0</td>\n",
       "      <td>0.434783</td>\n",
       "    </tr>\n",
       "    <tr>\n",
       "      <th>9</th>\n",
       "      <td>NaN</td>\n",
       "      <td>1992-04-23</td>\n",
       "      <td>I</td>\n",
       "      <td>94</td>\n",
       "      <td>81.0</td>\n",
       "      <td>79.0</td>\n",
       "      <td>84.666667</td>\n",
       "      <td>79.0</td>\n",
       "      <td>94.0</td>\n",
       "      <td>81.0</td>\n",
       "      <td>0.866667</td>\n",
       "    </tr>\n",
       "    <tr>\n",
       "      <th>10</th>\n",
       "      <td>NaN</td>\n",
       "      <td>1992-04-23</td>\n",
       "      <td>I</td>\n",
       "      <td>17</td>\n",
       "      <td>22.0</td>\n",
       "      <td>36.0</td>\n",
       "      <td>25.000000</td>\n",
       "      <td>17.0</td>\n",
       "      <td>36.0</td>\n",
       "      <td>22.0</td>\n",
       "      <td>0.736842</td>\n",
       "    </tr>\n",
       "    <tr>\n",
       "      <th>11</th>\n",
       "      <td>NaN</td>\n",
       "      <td>1992-04-23</td>\n",
       "      <td>I</td>\n",
       "      <td>14</td>\n",
       "      <td>8.0</td>\n",
       "      <td>13.0</td>\n",
       "      <td>11.666667</td>\n",
       "      <td>8.0</td>\n",
       "      <td>14.0</td>\n",
       "      <td>13.0</td>\n",
       "      <td>0.166667</td>\n",
       "    </tr>\n",
       "    <tr>\n",
       "      <th>12</th>\n",
       "      <td>NaN</td>\n",
       "      <td>1992-04-23</td>\n",
       "      <td>I</td>\n",
       "      <td>14</td>\n",
       "      <td>18.0</td>\n",
       "      <td>11.0</td>\n",
       "      <td>14.333333</td>\n",
       "      <td>11.0</td>\n",
       "      <td>18.0</td>\n",
       "      <td>14.0</td>\n",
       "      <td>0.571429</td>\n",
       "    </tr>\n",
       "    <tr>\n",
       "      <th>13</th>\n",
       "      <td>NaN</td>\n",
       "      <td>1992-04-23</td>\n",
       "      <td>I</td>\n",
       "      <td>5</td>\n",
       "      <td>3.0</td>\n",
       "      <td>6.0</td>\n",
       "      <td>4.666667</td>\n",
       "      <td>3.0</td>\n",
       "      <td>6.0</td>\n",
       "      <td>5.0</td>\n",
       "      <td>0.333333</td>\n",
       "    </tr>\n",
       "    <tr>\n",
       "      <th>14</th>\n",
       "      <td>NaN</td>\n",
       "      <td>1992-04-23</td>\n",
       "      <td>I</td>\n",
       "      <td>28</td>\n",
       "      <td>29.0</td>\n",
       "      <td>26.0</td>\n",
       "      <td>27.666667</td>\n",
       "      <td>26.0</td>\n",
       "      <td>29.0</td>\n",
       "      <td>28.0</td>\n",
       "      <td>0.333333</td>\n",
       "    </tr>\n",
       "    <tr>\n",
       "      <th>15</th>\n",
       "      <td>NaN</td>\n",
       "      <td>1992-04-23</td>\n",
       "      <td>I</td>\n",
       "      <td>33</td>\n",
       "      <td>20.0</td>\n",
       "      <td>37.0</td>\n",
       "      <td>30.000000</td>\n",
       "      <td>20.0</td>\n",
       "      <td>37.0</td>\n",
       "      <td>33.0</td>\n",
       "      <td>0.235294</td>\n",
       "    </tr>\n",
       "    <tr>\n",
       "      <th>16</th>\n",
       "      <td>NaN</td>\n",
       "      <td>1992-04-23</td>\n",
       "      <td>I</td>\n",
       "      <td>14</td>\n",
       "      <td>39.0</td>\n",
       "      <td>32.0</td>\n",
       "      <td>28.333333</td>\n",
       "      <td>14.0</td>\n",
       "      <td>39.0</td>\n",
       "      <td>32.0</td>\n",
       "      <td>0.280000</td>\n",
       "    </tr>\n",
       "    <tr>\n",
       "      <th>17</th>\n",
       "      <td>NaN</td>\n",
       "      <td>1992-05-14</td>\n",
       "      <td>I</td>\n",
       "      <td>189</td>\n",
       "      <td>182.0</td>\n",
       "      <td>180.0</td>\n",
       "      <td>183.666667</td>\n",
       "      <td>180.0</td>\n",
       "      <td>189.0</td>\n",
       "      <td>182.0</td>\n",
       "      <td>0.777778</td>\n",
       "    </tr>\n",
       "    <tr>\n",
       "      <th>18</th>\n",
       "      <td>NaN</td>\n",
       "      <td>1992-05-14</td>\n",
       "      <td>I</td>\n",
       "      <td>76</td>\n",
       "      <td>87.0</td>\n",
       "      <td>74.0</td>\n",
       "      <td>79.000000</td>\n",
       "      <td>74.0</td>\n",
       "      <td>87.0</td>\n",
       "      <td>76.0</td>\n",
       "      <td>0.846154</td>\n",
       "    </tr>\n",
       "    <tr>\n",
       "      <th>19</th>\n",
       "      <td>NaN</td>\n",
       "      <td>1992-05-14</td>\n",
       "      <td>I</td>\n",
       "      <td>29</td>\n",
       "      <td>26.0</td>\n",
       "      <td>25.0</td>\n",
       "      <td>26.666667</td>\n",
       "      <td>25.0</td>\n",
       "      <td>29.0</td>\n",
       "      <td>26.0</td>\n",
       "      <td>0.750000</td>\n",
       "    </tr>\n",
       "    <tr>\n",
       "      <th>20</th>\n",
       "      <td>NaN</td>\n",
       "      <td>1992-05-14</td>\n",
       "      <td>I</td>\n",
       "      <td>82</td>\n",
       "      <td>72.0</td>\n",
       "      <td>93.0</td>\n",
       "      <td>82.333333</td>\n",
       "      <td>72.0</td>\n",
       "      <td>93.0</td>\n",
       "      <td>82.0</td>\n",
       "      <td>0.523810</td>\n",
       "    </tr>\n",
       "  </tbody>\n",
       "</table>\n",
       "</div>"
      ],
      "text/plain": [
       "   Bates # B00 or B0       Date Inv  col1   col2   col3     average  Minimum  \\\n",
       "0                NaN 1992-04-23   I   266  247.0  262.0  258.333333    247.0   \n",
       "1                NaN 1992-04-23   I   170  151.0  156.0  159.000000    151.0   \n",
       "3                NaN 1992-04-23   I    22   13.0   27.0   20.666667     13.0   \n",
       "4                NaN 1992-04-23   I     1    1.0    4.0    2.000000      1.0   \n",
       "5                NaN 1992-04-23   I    10   13.0   12.0   11.666667     10.0   \n",
       "6                NaN 1992-04-23   I   320  311.0  312.0  314.333333    311.0   \n",
       "7                NaN 1992-04-23   I   194  192.0  203.0  196.333333    192.0   \n",
       "8                NaN 1992-04-23   I   238  228.0  215.0  227.000000    215.0   \n",
       "9                NaN 1992-04-23   I    94   81.0   79.0   84.666667     79.0   \n",
       "10               NaN 1992-04-23   I    17   22.0   36.0   25.000000     17.0   \n",
       "11               NaN 1992-04-23   I    14    8.0   13.0   11.666667      8.0   \n",
       "12               NaN 1992-04-23   I    14   18.0   11.0   14.333333     11.0   \n",
       "13               NaN 1992-04-23   I     5    3.0    6.0    4.666667      3.0   \n",
       "14               NaN 1992-04-23   I    28   29.0   26.0   27.666667     26.0   \n",
       "15               NaN 1992-04-23   I    33   20.0   37.0   30.000000     20.0   \n",
       "16               NaN 1992-04-23   I    14   39.0   32.0   28.333333     14.0   \n",
       "17               NaN 1992-05-14   I   189  182.0  180.0  183.666667    180.0   \n",
       "18               NaN 1992-05-14   I    76   87.0   74.0   79.000000     74.0   \n",
       "19               NaN 1992-05-14   I    29   26.0   25.0   26.666667     25.0   \n",
       "20               NaN 1992-05-14   I    82   72.0   93.0   82.333333     72.0   \n",
       "\n",
       "    Maximum  Median  Mid Ratios  \n",
       "0     266.0   262.0    0.210526  \n",
       "1     170.0   156.0    0.736842  \n",
       "3      27.0    22.0    0.357143  \n",
       "4       4.0     1.0    1.000000  \n",
       "5      13.0    12.0    0.333333  \n",
       "6     320.0   312.0    0.888889  \n",
       "7     203.0   194.0    0.818182  \n",
       "8     238.0   228.0    0.434783  \n",
       "9      94.0    81.0    0.866667  \n",
       "10     36.0    22.0    0.736842  \n",
       "11     14.0    13.0    0.166667  \n",
       "12     18.0    14.0    0.571429  \n",
       "13      6.0     5.0    0.333333  \n",
       "14     29.0    28.0    0.333333  \n",
       "15     37.0    33.0    0.235294  \n",
       "16     39.0    32.0    0.280000  \n",
       "17    189.0   182.0    0.777778  \n",
       "18     87.0    76.0    0.846154  \n",
       "19     29.0    26.0    0.750000  \n",
       "20     93.0    82.0    0.523810  "
      ]
     },
     "execution_count": 22,
     "metadata": {},
     "output_type": "execute_result"
    }
   ],
   "source": [
    "other_final = other_colony[(other_colony['Mid Ratios'] > 0)]\n",
    "other_final.head(20)"
   ]
  },
  {
   "cell_type": "code",
   "execution_count": 23,
   "metadata": {
    "collapsed": false
   },
   "outputs": [
    {
     "data": {
      "text/plain": [
       "array(['I', 'A', 'B', 'C', 'E', 'H', 'D', 'F', 'G'], dtype=object)"
      ]
     },
     "execution_count": 23,
     "metadata": {},
     "output_type": "execute_result"
    }
   ],
   "source": [
    "other_final['Inv'].unique()"
   ]
  },
  {
   "cell_type": "code",
   "execution_count": 24,
   "metadata": {
    "collapsed": false
   },
   "outputs": [
    {
     "name": "stdout",
     "output_type": "stream",
     "text": [
      "For investigator I:\n",
      "data points: 48\n"
     ]
    },
    {
     "data": {
      "image/png": "[encoded data removed]",
      "text/plain": [
       "<matplotlib.figure.Figure at 0x11aa09588>"
      ]
     },
     "metadata": {},
     "output_type": "display_data"
    },
    {
     "name": "stdout",
     "output_type": "stream",
     "text": [
      "For investigator A:\n",
      "data points: 250\n"
     ]
    },
    {
     "data": {
      "image/png": "[encoded data removed]",
      "text/plain": [
       "<matplotlib.figure.Figure at 0x11aa09eb8>"
      ]
     },
     "metadata": {},
     "output_type": "display_data"
    },
    {
     "name": "stdout",
     "output_type": "stream",
     "text": [
      "For investigator B:\n",
      "data points: 54\n"
     ]
    },
    {
     "data": {
      "image/png": "[encoded data removed]",
      "text/plain": [
       "<matplotlib.figure.Figure at 0x11aa9f898>"
      ]
     },
     "metadata": {},
     "output_type": "display_data"
    },
    {
     "name": "stdout",
     "output_type": "stream",
     "text": [
      "For investigator C:\n",
      "data points: 86\n"
     ]
    },
    {
     "data": {
      "image/png": "[encoded data removed]",
      "text/plain": [
       "<matplotlib.figure.Figure at 0x11abb1588>"
      ]
     },
     "metadata": {},
     "output_type": "display_data"
    },
    {
     "name": "stdout",
     "output_type": "stream",
     "text": [
      "For investigator E:\n",
      "data points: 10\n"
     ]
    },
    {
     "data": {
      "image/png": "[encoded data removed]",
      "text/plain": [
       "<matplotlib.figure.Figure at 0x11b1180b8>"
      ]
     },
     "metadata": {},
     "output_type": "display_data"
    },
    {
     "name": "stdout",
     "output_type": "stream",
     "text": [
      "For investigator H:\n",
      "data points: 21\n"
     ]
    },
    {
     "data": {
      "image/png": "[encoded data removed]",
      "text/plain": [
       "<matplotlib.figure.Figure at 0x11acafa58>"
      ]
     },
     "metadata": {},
     "output_type": "display_data"
    },
    {
     "name": "stdout",
     "output_type": "stream",
     "text": [
      "For investigator D:\n",
      "data points: 81\n"
     ]
    },
    {
     "data": {
      "image/png": "[encoded data removed]",
      "text/plain": [
       "<matplotlib.figure.Figure at 0x11abb1710>"
      ]
     },
     "metadata": {},
     "output_type": "display_data"
    },
    {
     "name": "stdout",
     "output_type": "stream",
     "text": [
      "For investigator F:\n",
      "data points: 28\n"
     ]
    },
    {
     "data": {
      "image/png": "[encoded data removed]",
      "text/plain": [
       "<matplotlib.figure.Figure at 0x11b34e8d0>"
      ]
     },
     "metadata": {},
     "output_type": "display_data"
    },
    {
     "name": "stdout",
     "output_type": "stream",
     "text": [
      "For investigator G:\n",
      "data points: 9\n"
     ]
    },
    {
     "data": {
      "image/png": "[encoded data removed]",
      "text/plain": [
       "<matplotlib.figure.Figure at 0x11b573470>"
      ]
     },
     "metadata": {},
     "output_type": "display_data"
    }
   ],
   "source": [
    "for investigator in ['I', 'A', 'B', 'C', 'E', 'H', 'D', 'F', 'G']:\n",
    "    print ('For investigator ' + investigator + ':')\n",
    "    inv = other_final[other_final['Inv'] == investigator]\n",
    "    print ('data points: %d' %len(inv))\n",
    "    hist, bins = np.histogram(list(inv['Mid Ratios']), bins=np.arange(0.05,1.15, 0.1), normed=True)\n",
    "    width = 0.7 * (bins[1] - bins[0])\n",
    "    center = (np.arange(0.1,1.1, 0.1) ) \n",
    "    plt.bar(center, hist, align='center', width=width)\n",
    "    plt.ylim(0,5)\n",
    "    plt.show()"
   ]
  },
  {
   "cell_type": "code",
   "execution_count": 30,
   "metadata": {
    "collapsed": false
   },
   "outputs": [
    {
     "ename": "NameError",
     "evalue": "name 'centre' is not defined",
     "output_type": "error",
     "traceback": [
      "\u001b[0;31m---------------------------------------------------------------------------\u001b[0m",
      "\u001b[0;31mNameError\u001b[0m                                 Traceback (most recent call last)",
      "\u001b[0;32m<ipython-input-30-0deff4c2d319>\u001b[0m in \u001b[0;36m<module>\u001b[0;34m()\u001b[0m\n\u001b[0;32m----> 1\u001b[0;31m \u001b[0mcentre\u001b[0m\u001b[0;34m\u001b[0m\u001b[0m\n\u001b[0m",
      "\u001b[0;31mNameError\u001b[0m: name 'centre' is not defined"
     ]
    }
   ],
   "source": [
    "centre"
   ]
  },
  {
   "cell_type": "code",
   "execution_count": null,
   "metadata": {
    "collapsed": true
   },
   "outputs": [],
   "source": []
  }
 ],
 "metadata": {
  "anaconda-cloud": {},
  "kernelspec": {
   "display_name": "Python [Root]",
   "language": "python",
   "name": "Python [Root]"
  },
  "language_info": {
   "codemirror_mode": {
    "name": "ipython",
    "version": 3
   },
   "file_extension": ".py",
   "mimetype": "text/x-python",
   "name": "python",
   "nbconvert_exporter": "python",
   "pygments_lexer": "ipython3",
   "version": "3.5.2"
  }
 },
 "nbformat": 4,
 "nbformat_minor": 0
}
