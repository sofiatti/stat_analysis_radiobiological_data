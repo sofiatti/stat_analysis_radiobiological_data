{
 "cells": [
  {
   "cell_type": "code",
   "execution_count": 1,
   "metadata": {
    "collapsed": false
   },
   "outputs": [],
   "source": [
    "import numpy\n"
   ]
  },
  {
   "cell_type": "code",
   "execution_count": 2,
   "metadata": {
    "collapsed": false
   },
   "outputs": [
    {
     "name": "stdout",
     "output_type": "stream",
     "text": [
      "1\n",
      "2\n",
      "3\n",
      "4\n",
      "5\n",
      "6\n",
      "7\n",
      "8\n",
      "9\n",
      "10\n",
      "11\n",
      "12\n",
      "13\n",
      "14\n",
      "15\n",
      "16\n",
      "17\n",
      "18\n",
      "19\n",
      "20\n",
      "21\n",
      "22\n",
      "23\n",
      "24\n",
      "25\n"
     ]
    }
   ],
   "source": [
    "lambdaParameter=numpy.arange(1,26)\n",
    "prob=numpy.zeros(numpy.size(lambdaParameter));\n",
    "totalSweep=200000;\n",
    "for index, lambdaVal in enumerate(lambdaParameter):\n",
    "    print(lambdaVal)\n",
    "    #performing 200000 iterations\n",
    "\n",
    "    for sweep in range(totalSweep): \n",
    "       triplet=numpy.random.poisson(lambdaVal, 3);\n",
    "       #sorting the triplet\n",
    "       numpy.ndarray.sort(triplet);\n",
    "       mean_triplet=numpy.mean(triplet);\n",
    "       #checking if mean is present in the triplet\n",
    "        \n",
    "       if mean_triplet == triplet[1]:\n",
    "           prob[index]+=1; \n",
    "       elif triplet[0] != triplet[1] and triplet[1] != triplet[2]:\n",
    "            if lambdaVal >2:\n",
    "                if round(mean_triplet) == triplet[1]:\n",
    "                   prob[index]+=1; \n",
    "            elif lambdaVal ==2:\n",
    "                if round(mean_triplet) == triplet[1] and triplet[0] != 0:\n",
    "                   prob[index]+=1; \n",
    "\n",
    "prob =prob*1.0/totalSweep;"
   ]
  },
  {
   "cell_type": "code",
   "execution_count": 3,
   "metadata": {
    "collapsed": false
   },
   "outputs": [
    {
     "data": {
      "text/plain": [
       "[<matplotlib.lines.Line2D at 0x10ee0c710>]"
      ]
     },
     "execution_count": 3,
     "metadata": {},
     "output_type": "execute_result"
    },
    {
     "data": {
      "image/png": "[encoded data removed]",
      "text/plain": [
       "<matplotlib.figure.Figure at 0x10640fd30>"
      ]
     },
     "metadata": {},
     "output_type": "display_data"
    }
   ],
   "source": [
    "prob\n",
    "%matplotlib inline\n",
    "import matplotlib.pyplot as plt\n",
    "plt.plot(lambdaParameter,prob)"
   ]
  },
  {
   "cell_type": "code",
   "execution_count": 4,
   "metadata": {
    "collapsed": false
   },
   "outputs": [
    {
     "data": {
      "text/plain": [
       "array([ 0.28761 ,  0.34368 ,  0.434065,  0.419465,  0.40394 ,  0.38844 ,\n",
       "        0.372865,  0.36219 ,  0.34688 ,  0.33631 ,  0.324545,  0.316465,\n",
       "        0.3079  ,  0.298925,  0.29235 ,  0.284895,  0.28111 ,  0.27454 ,\n",
       "        0.267065,  0.26418 ,  0.25733 ,  0.254025,  0.250325,  0.24636 ,\n",
       "        0.24044 ])"
      ]
     },
     "execution_count": 4,
     "metadata": {},
     "output_type": "execute_result"
    }
   ],
   "source": [
    "prob\n"
   ]
  },
  {
   "cell_type": "code",
   "execution_count": null,
   "metadata": {
    "collapsed": true
   },
   "outputs": [],
   "source": []
  }
 ],
 "metadata": {
  "kernelspec": {
   "display_name": "Python [Root]",
   "language": "python",
   "name": "Python [Root]"
  },
  "language_info": {
   "codemirror_mode": {
    "name": "ipython",
    "version": 3
   },
   "file_extension": ".py",
   "mimetype": "text/x-python",
   "name": "python",
   "nbconvert_exporter": "python",
   "pygments_lexer": "ipython3",
   "version": "3.5.2"
  }
 },
 "nbformat": 4,
 "nbformat_minor": 0
}
