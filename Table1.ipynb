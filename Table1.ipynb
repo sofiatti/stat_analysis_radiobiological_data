{
 "cells": [
  {
   "cell_type": "code",
   "execution_count": 4,
   "metadata": {
    "collapsed": false
   },
   "outputs": [],
   "source": [
    "import numpy\n"
   ]
  },
  {
   "cell_type": "code",
   "execution_count": 37,
   "metadata": {
    "collapsed": false
   },
   "outputs": [],
   "source": [
    "lambdaParameter=numpy.arange(1,26)\n",
    "prob=numpy.zeros(numpy.size(lambdaParameter));\n",
    "totalSweep=100000;"
   ]
  },
  {
   "cell_type": "code",
   "execution_count": 38,
   "metadata": {
    "collapsed": false
   },
   "outputs": [
    {
     "name": "stdout",
     "output_type": "stream",
     "text": [
      "0\n",
      "1\n",
      "2\n",
      "3\n",
      "4\n",
      "5\n",
      "6\n",
      "7\n",
      "8\n",
      "9\n",
      "10\n",
      "11\n",
      "12\n",
      "13\n",
      "14\n",
      "15\n",
      "16\n",
      "17\n",
      "18\n",
      "19\n",
      "20\n",
      "21\n",
      "22\n",
      "23\n",
      "24\n"
     ]
    }
   ],
   "source": [
    "for index, lambdaVal in enumerate(lambdaParameter):\n",
    "    print(index)\n",
    "    #performing 100000 iterations\n",
    "    for sweep in range(totalSweep): \n",
    "       triplet=numpy.random.poisson(lambdaVal, 3);\n",
    "       #sorting the triplet\n",
    "       numpy.ndarray.sort(triplet);\n",
    "       #checking if mean is present in the triplet\n",
    "       mean_triplet=numpy.mean(triplet);\n",
    "       if mean_triplet == triplet[1]:\n",
    "           prob[index]+=1; \n",
    "prob =prob*1.0/totalSweep;"
   ]
  },
  {
   "cell_type": "code",
   "execution_count": 44,
   "metadata": {
    "collapsed": false
   },
   "outputs": [
    {
     "data": {
      "text/plain": [
       "[<matplotlib.lines.Line2D at 0x10c1a0198>]"
      ]
     },
     "execution_count": 44,
     "metadata": {},
     "output_type": "execute_result"
    }
   ],
   "source": [
    "prob\n",
    "import matplotlib.pyplot as plt\n",
    "plt.plot(lambdaParameter,prob)"
   ]
  },
  {
   "cell_type": "code",
   "execution_count": null,
   "metadata": {
    "collapsed": true
   },
   "outputs": [],
   "source": []
  }
 ],
 "metadata": {
  "kernelspec": {
   "display_name": "Python [Root]",
   "language": "python",
   "name": "Python [Root]"
  },
  "language_info": {
   "codemirror_mode": {
    "name": "ipython",
    "version": 3
   },
   "file_extension": ".py",
   "mimetype": "text/x-python",
   "name": "python",
   "nbconvert_exporter": "python",
   "pygments_lexer": "ipython3",
   "version": "3.5.2"
  }
 },
 "nbformat": 4,
 "nbformat_minor": 0
}
