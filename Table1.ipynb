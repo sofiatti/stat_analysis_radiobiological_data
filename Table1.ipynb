{
 "cells": [
  {
   "cell_type": "code",
   "execution_count": 1,
   "metadata": {
    "collapsed": false
   },
   "outputs": [],
   "source": [
    "import numpy\n"
   ]
  },
  {
   "cell_type": "code",
   "execution_count": 79,
   "metadata": {
    "collapsed": false
   },
   "outputs": [
    {
     "name": "stdout",
     "output_type": "stream",
     "text": [
      "1\n",
      "2\n",
      "3\n",
      "4\n",
      "5\n"
     ]
    }
   ],
   "source": [
    "lambdaParameter=numpy.arange(1,26)\n",
    "prob=numpy.zeros(numpy.size(lambdaParameter));\n",
    "totalSweep=200000;\n",
    "for index, lambdaVal in enumerate(lambdaParameter):\n",
    "    print(lambdaVal)\n",
    "    #performing 200000 iterations\n",
    "\n",
    "    for sweep in range(totalSweep): \n",
    "       triplet=numpy.random.poisson(lambdaVal, 3);\n",
    "       #sorting the triplet\n",
    "       numpy.ndarray.sort(triplet);\n",
    "       mean_triplet=numpy.mean(triplet);\n",
    "       #checking if mean is present in the triplet\n",
    "        \n",
    "       if mean_triplet == triplet[1]:\n",
    "           prob[index]+=1; \n",
    "       elif triplet[0] != triplet[1] and triplet[1] != triplet[2]:\n",
    "            if lambdaVal >2:\n",
    "                if round(mean_triplet) == triplet[1]:\n",
    "                   prob[index]+=1; \n",
    "            elif lambdaVal ==2:\n",
    "                if round(mean_triplet) == triplet[1] and triplet[0] != 0:\n",
    "                   prob[index]+=1; \n",
    "\n",
    "prob =prob*1.0/totalSweep;"
   ]
  },
  {
   "cell_type": "code",
   "execution_count": 80,
   "metadata": {
    "collapsed": false
   },
   "outputs": [
    {
     "data": {
      "text/plain": [
       "[<matplotlib.lines.Line2D at 0x11104aeb8>]"
      ]
     },
     "execution_count": 80,
     "metadata": {},
     "output_type": "execute_result"
    },
    {
     "data": {
      "image/png": "[encoded data removed]",
      "text/plain": [
       "<matplotlib.figure.Figure at 0x1107bedd8>"
      ]
     },
     "metadata": {},
     "output_type": "display_data"
    }
   ],
   "source": [
    "prob\n",
    "%matplotlib inline\n",
    "import matplotlib.pyplot as plt\n",
    "plt.plot(lambdaParameter,prob)"
   ]
  },
  {
   "cell_type": "code",
   "execution_count": 81,
   "metadata": {
    "collapsed": false
   },
   "outputs": [
    {
     "data": {
      "text/plain": [
       "array([ 0.28785,  0.34145,  0.43487,  0.4211 ,  0.40324])"
      ]
     },
     "execution_count": 81,
     "metadata": {},
     "output_type": "execute_result"
    }
   ],
   "source": [
    "prob\n"
   ]
  },
  {
   "cell_type": "code",
   "execution_count": null,
   "metadata": {
    "collapsed": true
   },
   "outputs": [],
   "source": []
  }
 ],
 "metadata": {
  "kernelspec": {
   "display_name": "Python [Root]",
   "language": "python",
   "name": "Python [Root]"
  },
  "language_info": {
   "codemirror_mode": {
    "name": "ipython",
    "version": 3
   },
   "file_extension": ".py",
   "mimetype": "text/x-python",
   "name": "python",
   "nbconvert_exporter": "python",
   "pygments_lexer": "ipython3",
   "version": "3.5.2"
  }
 },
 "nbformat": 4,
 "nbformat_minor": 0
}
