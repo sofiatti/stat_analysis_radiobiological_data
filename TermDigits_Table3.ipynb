{
 "cells": [
  {
   "cell_type": "code",
   "execution_count": 408,
   "metadata": {
    "collapsed": false
   },
   "outputs": [
    {
     "name": "stdout",
     "output_type": "stream",
     "text": [
      "\u001b[31mBishayee Colony Counts 10.27.97-3.8.01.xlsx\u001b[m\u001b[m*\r\n",
      "\u001b[31mBishayee Coulter Counts.10.20.97-7.16.01.xlsx\u001b[m\u001b[m*\r\n",
      "\u001b[31mOther Investigators in Lab.Colony Counts.4.23.92-11.27.02.xlsx\u001b[m\u001b[m*\r\n",
      "\u001b[31mOther Investigators in Lab.Coulter Counts.4.15.92-5.21.05.xlsx\u001b[m\u001b[m*\r\n",
      "\u001b[31mOutside Lab 1.Coulter Counts.6.7.91-4.9.99.xlsx\u001b[m\u001b[m*\r\n",
      "\u001b[31mOutside Lab 2.Coulter Counts.6.6.08-7.7.08.xlsx\u001b[m\u001b[m*\r\n",
      "\u001b[31mOutside Lab 3.Colony Counts.2.4.10-5.21.12.xlsx\u001b[m\u001b[m*\r\n",
      "~$Bishayee Colony Counts 10.27.97-3.8.01.xlsx\r\n",
      "~$Bishayee Coulter Counts.10.20.97-7.16.01.xlsx\r\n"
     ]
    }
   ],
   "source": [
    "ls data/"
   ]
  },
  {
   "cell_type": "code",
   "execution_count": 409,
   "metadata": {
    "collapsed": true
   },
   "outputs": [],
   "source": [
    "rst_colony = pd.read_excel('data/Bishayee Colony Counts 10.27.97-3.8.01.xlsx', header=1)\n",
    "rst_coulter = pd.read_excel('data/Bishayee Coulter Counts.10.20.97-7.16.01.xlsx', header=1)\n",
    "other_colony = pd.read_excel('data/Other Investigators in Lab.Colony Counts.4.23.92-11.27.02.xlsx', header=1)\n",
    "other_coulter = pd.read_excel('data/Other Investigators in Lab.Coulter Counts.4.15.92-5.21.05.xlsx', header=1)\n",
    "outside_1_coulter = pd.read_excel('data/Outside Lab 1.Coulter Counts.6.7.91-4.9.99.xlsx', header=1)\n",
    "outside_2_coulter = pd.read_excel('data/Outside Lab 2.Coulter Counts.6.6.08-7.7.08.xlsx', header=1)\n",
    "outside_3_colony = pd.read_excel('data/Outside Lab 3.Colony Counts.2.4.10-5.21.12.xlsx',header=1)"
   ]
  },
  {
   "cell_type": "code",
   "execution_count": 425,
   "metadata": {
    "collapsed": false
   },
   "outputs": [
    {
     "name": "stdout",
     "output_type": "stream",
     "text": [
      "\n",
      "4085\n",
      "Power_divergenceResult(statistic=200.72582619339045, pvalue=2.3337800143638883e-38)\n",
      "[564, 324, 463, 313, 290, 478, 336, 408, 383, 526]\n",
      "Power_divergenceResult(statistic=0.049137289153828728, pvalue=0.99999999893062108)\n"
     ]
    },
    {
     "data": {
      "text/plain": [
       "KstestResult(statistic=0.86193390452876373, pvalue=5.036744799014059e-09)"
      ]
     },
     "execution_count": 425,
     "metadata": {},
     "output_type": "execute_result"
    }
   ],
   "source": [
    "from scipy.stats import chisquare\n",
    "from scipy import stats\n",
    "import numpy as np\n",
    "#all_data = [rst_colony, rst_coulter, other_colony, other_coulter, outside_1_coulter, outside_2_coulter, outside_3_colony]\n",
    "# Get the array of terminal digits\n",
    "\n",
    "#for data in all_data:\n",
    "#    print(data.head(2))\n",
    "#    print('-----------------------')\n",
    "#pt = 0\n",
    "#\n",
    "# Process rst_colony\n",
    "data = rst_colony\n",
    "term_digits = []\n",
    "for count in range(0,len(data)):\n",
    "    if type(data.col1[count]) == str:\n",
    "        print('')\n",
    "        #print(type(data.col1[count]))\n",
    "    else:\n",
    "        term_digits.append(data.col1[count]%10)\n",
    "    if type(data.col2[count]) == str:\n",
    "        print('')\n",
    "        #print(type(data.col2[count]))\n",
    "    else:\n",
    "        term_digits.append(data.col2[count]%10)\n",
    "    if type(data.col3[count]) == str:\n",
    "        print('')\n",
    "        #print(type(data.col3[count]))\n",
    "    else:\n",
    "        type(data.col3[count])\n",
    "        term_digits.append(data.col3[count]%10)\n",
    "#\n",
    "#chi2 test\n",
    "digit_occur = [];\n",
    "for i in range(0,10):\n",
    "    digit_occur.append(term_digits.count(i))\n",
    "print(len(term_digits))\n",
    "print(chisquare(digit_occur))\n",
    "print(digit_occur)\n",
    "prob_digit_occur = [0.0]*10\n",
    "for i in range(0,10):\n",
    "    prob_digit_occur[i]= digit_occur[i]/sum(digit_occur)\n",
    "print(chisquare(prob_digit_occur))\n",
    "x = np.array(digit_occur)\n",
    "x = x/np.sum(x)\n",
    "#print(x)\n",
    "stats.kstest(x, 'uniform')"
   ]
  },
  {
   "cell_type": "code",
   "execution_count": 426,
   "metadata": {
    "collapsed": false,
    "scrolled": true
   },
   "outputs": [
    {
     "name": "stdout",
     "output_type": "stream",
     "text": [
      "\n",
      "\n",
      "5185\n",
      "Power_divergenceResult(statistic=466.87463837994216, pvalue=7.062272693481828e-95)\n",
      "[475, 613, 736, 416, 335, 732, 363, 425, 372, 718]\n",
      "Power_divergenceResult(statistic=0.090043324663441102, pvalue=0.99999998394713441)\n"
     ]
    }
   ],
   "source": [
    "# Process rst_coulter\n",
    "data = rst_coulter\n",
    "term_digits=[]\n",
    "for count in range(0,len(data)):\n",
    "    if np.isnan(data['Count 1'][count]):\n",
    "        print('')\n",
    "    else:\n",
    "        term_digits.append((int(data['Count 1'][count]))%10)\n",
    "    if np.isnan(data['Count 2'][count]):\n",
    "        print('')\n",
    "        #print(type(data.col2[count]))\n",
    "    else:\n",
    "        term_digits.append((int(data['Count 2'][count]))%10)\n",
    "    if np.isnan(data['Count 3'][count]):\n",
    "        print('')\n",
    "#        #print(type(data.col3[count]))\n",
    "    else:\n",
    "\n",
    "        term_digits.append((int(data['Count 3'][count]))%10)\n",
    "#chi2 test\n",
    "digit_occur = [];\n",
    "for i in range(0,10):\n",
    "    digit_occur.append(term_digits.count(i))\n",
    "    \n",
    "print(len(term_digits))\n",
    "print(chisquare(digit_occur))\n",
    "print(digit_occur)\n",
    "prob_digit_occur = [0.0]*10\n",
    "for i in range(0,10):\n",
    "    prob_digit_occur[i]= digit_occur[i]/sum(digit_occur)\n",
    "print(chisquare(prob_digit_occur))\n",
    "#x = np.array(digit_occur)\n",
    "#stats.kstest(x, 'uniform')"
   ]
  },
  {
   "cell_type": "code",
   "execution_count": 427,
   "metadata": {
    "collapsed": false
   },
   "outputs": [
    {
     "name": "stdout",
     "output_type": "stream",
     "text": [
      "\n",
      "\n",
      "1861\n",
      "Power_divergenceResult(statistic=1.79062159214831, pvalue=0.99436253377195383)\n",
      "[191, 181, 195, 179, 184, 175, 178, 185, 185, 181]\n",
      "Power_divergenceResult(statistic=0.00097634765111685371, pvalue=1.0)\n"
     ]
    },
    {
     "data": {
      "text/plain": [
       "KstestResult(statistic=0.89367502726281356, pvalue=3.693030325990776e-10)"
      ]
     },
     "execution_count": 427,
     "metadata": {},
     "output_type": "execute_result"
    }
   ],
   "source": [
    "# Process other_colony\n",
    "data = other_colony\n",
    "term_digits = []\n",
    "#term_digits.append([])\n",
    "for count in range(0,len(data)):\n",
    "    if type(data.col1[count]) == str:\n",
    "        print('')\n",
    "        #print(type(data.col1[count]))\n",
    "    else:\n",
    "        term_digits.append(data.col1[count]%10)\n",
    "    if type(data.col2[count]) == str:\n",
    "        print('')\n",
    "        #print(type(data.col2[count]))\n",
    "    else:\n",
    "        term_digits.append(data.col2[count]%10)\n",
    "    if type(data.col3[count]) == str:\n",
    "        print('')\n",
    "        #print(type(data.col3[count]))\n",
    "    else:\n",
    "        type(data.col3[count])\n",
    "        term_digits.append(data.col3[count]%10)\n",
    "#\n",
    "#chi2 test\n",
    "digit_occur = [];\n",
    "for i in range(0,10):\n",
    "    digit_occur.append(term_digits.count(i))\n",
    "print(len(term_digits))\n",
    "print(chisquare(digit_occur))\n",
    "print(digit_occur)\n",
    "prob_digit_occur = [0.0]*10\n",
    "for i in range(0,10):\n",
    "    prob_digit_occur[i]= digit_occur[i]/sum(digit_occur)\n",
    "print(chisquare(prob_digit_occur))\n",
    "x = np.array(digit_occur)\n",
    "x = x/np.sum(x)\n",
    "#print(x)\n",
    "stats.kstest(x, 'uniform')"
   ]
  },
  {
   "cell_type": "code",
   "execution_count": 428,
   "metadata": {
    "collapsed": false
   },
   "outputs": [
    {
     "name": "stdout",
     "output_type": "stream",
     "text": [
      "2942\n",
      "Power_divergenceResult(statistic=15.994561522773623, pvalue=0.066995244285223132)\n",
      "[261, 311, 295, 259, 318, 290, 298, 283, 331, 296]\n",
      "Power_divergenceResult(statistic=0.0054366286617177515, pvalue=0.99999999999994571)\n",
      "[ 0.08871516  0.1057104   0.10027192  0.08803535  0.10808973  0.0985724\n",
      "  0.10129164  0.09619307  0.1125085   0.10061183]\n"
     ]
    },
    {
     "data": {
      "text/plain": [
       "KstestResult(statistic=0.88749150237933383, pvalue=6.4995497872644137e-10)"
      ]
     },
     "execution_count": 428,
     "metadata": {},
     "output_type": "execute_result"
    }
   ],
   "source": [
    "# Process Other_coulter\n",
    "data = other_coulter\n",
    "term_digits=[]\n",
    "#list(data.columns.values)\n",
    "for count in range(0,len(data)):\n",
    "    if np.isnan(data['Coul 1'][count]):\n",
    "        dt=1\n",
    "    else:\n",
    "        term_digits.append((int(data['Coul 1'][count]))%10)\n",
    "    if np.isnan(data['Coul 2'][count]):\n",
    "        dt=1\n",
    "        #print(type(data.col2[count]))\n",
    "    else:\n",
    "        term_digits.append((int(data['Coul 2'][count]))%10)\n",
    "    if np.isnan(data['Coul 3'][count]):\n",
    "        dt=1\n",
    "#        #print(type(data.col3[count]))\n",
    "    else:\n",
    "\n",
    "        term_digits.append((int(data['Coul 3'][count]))%10)\n",
    "#chi2 test\n",
    "digit_occur = [];\n",
    "for i in range(0,10):\n",
    "    digit_occur.append(term_digits.count(i))\n",
    "    \n",
    "print(len(term_digits))\n",
    "print(chisquare(digit_occur))\n",
    "print(digit_occur)\n",
    "prob_digit_occur = [0.0]*10\n",
    "for i in range(0,10):\n",
    "    prob_digit_occur[i]= digit_occur[i]/sum(digit_occur)\n",
    "print(chisquare(prob_digit_occur))\n",
    "x = np.array(digit_occur)\n",
    "x = x/np.sum(x)\n",
    "print(x)\n",
    "stats.kstest(x, 'uniform')"
   ]
  },
  {
   "cell_type": "code",
   "execution_count": 429,
   "metadata": {
    "collapsed": false
   },
   "outputs": [
    {
     "name": "stdout",
     "output_type": "stream",
     "text": [
      "312\n",
      "Power_divergenceResult(statistic=8.8333333333333321, pvalue=0.45279922039701459)\n",
      "[28, 33, 28, 25, 27, 36, 43, 33, 26, 33]\n",
      "Power_divergenceResult(statistic=0.028311965811965819, pvalue=0.9999999999097714)\n"
     ]
    }
   ],
   "source": [
    "# Process Other_coulter\n",
    "data = outside_1_coulter\n",
    "term_digits=[]\n",
    "list(data.columns.values)\n",
    "for count in range(0,len(data)):\n",
    "    if np.isnan(data[2266][count]):\n",
    "        dt=1\n",
    "    else:\n",
    "        term_digits.append((int(data[2266][count]))%10)\n",
    "    if np.isnan(data[2321][count]):\n",
    "        dt=1\n",
    "        #print(type(data.col2[count]))\n",
    "    else:\n",
    "        term_digits.append((int(data[2321][count]))%10)\n",
    "    if np.isnan(data[2192][count]):\n",
    "        dt=1\n",
    "#        #print(type(data.col3[count]))\n",
    "    else:\n",
    "\n",
    "        term_digits.append((int(data[2192][count]))%10)\n",
    "#chi2 test\n",
    "digit_occur = [];\n",
    "for i in range(0,10):\n",
    "    digit_occur.append(term_digits.count(i))\n",
    "    \n",
    "print(len(term_digits))\n",
    "print(chisquare(digit_occur))\n",
    "print(digit_occur)\n",
    "prob_digit_occur = [0.0]*10\n",
    "for i in range(0,10):\n",
    "    prob_digit_occur[i]= digit_occur[i]/sum(digit_occur)\n",
    "print(chisquare(prob_digit_occur))"
   ]
  },
  {
   "cell_type": "code",
   "execution_count": 430,
   "metadata": {
    "collapsed": false
   },
   "outputs": [
    {
     "name": "stdout",
     "output_type": "stream",
     "text": [
      "360\n",
      "Power_divergenceResult(statistic=4.9444444444444438, pvalue=0.83912402419536669)\n",
      "[34, 38, 45, 35, 32, 42, 31, 35, 35, 33]\n",
      "Power_divergenceResult(statistic=0.013734567901234569, pvalue=0.99999999999649869)\n"
     ]
    },
    {
     "data": {
      "text/plain": [
       "KstestResult(statistic=0.875, pvalue=1.8627119846570395e-09)"
      ]
     },
     "execution_count": 430,
     "metadata": {},
     "output_type": "execute_result"
    }
   ],
   "source": [
    "# Process Other_coulter\n",
    "data = outside_2_coulter\n",
    "term_digits=[]\n",
    "list(data.columns.values)\n",
    "for count in range(0,len(data)):\n",
    "    if np.isnan(data['Count 1'][count]):\n",
    "        dt=1\n",
    "    else:\n",
    "        term_digits.append((int(data['Count 1'][count]))%10)\n",
    "    if np.isnan(data['Count 2'][count]):\n",
    "        dt=1\n",
    "        #print(type(data.col2[count]))\n",
    "    else:\n",
    "        term_digits.append((int(data['Count 2'][count]))%10)\n",
    "    if np.isnan(data['Count 3'][count]):\n",
    "        dt=1\n",
    "#        #print(type(data.col3[count]))\n",
    "    else:\n",
    "\n",
    "        term_digits.append((int(data['Count 3'][count]))%10)\n",
    "#chi2 test\n",
    "digit_occur = [];\n",
    "for i in range(0,10):\n",
    "    digit_occur.append(term_digits.count(i))\n",
    "    \n",
    "print(len(term_digits))\n",
    "print(chisquare(digit_occur))\n",
    "print(digit_occur)\n",
    "prob_digit_occur = [0.0]*10\n",
    "for i in range(0,10):\n",
    "    prob_digit_occur[i]= digit_occur[i]/sum(digit_occur)\n",
    "print(chisquare(prob_digit_occur))\n",
    "x = np.array(digit_occur)\n",
    "x = x/np.sum(x)\n",
    "#print(x)\n",
    "stats.kstest(x, 'uniform')"
   ]
  },
  {
   "cell_type": "code",
   "execution_count": 431,
   "metadata": {
    "collapsed": false
   },
   "outputs": [
    {
     "name": "stdout",
     "output_type": "stream",
     "text": [
      "150\n",
      "Power_divergenceResult(statistic=12.133333333333331, pvalue=0.20589657510344825)\n",
      "[21, 9, 15, 16, 19, 19, 9, 19, 11, 12]\n",
      "Power_divergenceResult(statistic=0.080888888888888913, pvalue=0.99999999005407647)\n"
     ]
    },
    {
     "data": {
      "text/plain": [
       "KstestResult(statistic=0.85999999999999999, pvalue=5.7896019090009077e-09)"
      ]
     },
     "execution_count": 431,
     "metadata": {},
     "output_type": "execute_result"
    }
   ],
   "source": [
    "# Process Other_coulter\n",
    "data = outside_3_colony\n",
    "term_digits=[]\n",
    "list(data.columns.values)\n",
    "for count in range(0,len(data)):\n",
    "    if np.isnan(data['c1'][count]):\n",
    "        dt=1\n",
    "    else:\n",
    "        term_digits.append((int(data['c1'][count]))%10)\n",
    "    if np.isnan(data['c2'][count]):\n",
    "        dt=1\n",
    "        #print(type(data.col2[count]))\n",
    "    else:\n",
    "        term_digits.append((int(data['c2'][count]))%10)\n",
    "    if np.isnan(data['c3'][count]):\n",
    "        dt=1\n",
    "#        #print(type(data.col3[count]))\n",
    "    else:\n",
    "\n",
    "        term_digits.append((int(data['c3'][count]))%10)\n",
    "#chi2 test\n",
    "digit_occur = [];\n",
    "for i in range(0,10):\n",
    "    digit_occur.append(term_digits.count(i))\n",
    "    \n",
    "print(len(term_digits))\n",
    "print(chisquare(digit_occur))\n",
    "print(digit_occur)\n",
    "prob_digit_occur = [0.0]*10\n",
    "for i in range(0,10):\n",
    "    prob_digit_occur[i]= digit_occur[i]/sum(digit_occur)\n",
    "print(chisquare(prob_digit_occur))\n",
    "x = np.array(digit_occur)\n",
    "x = x/np.sum(x)\n",
    "#print(x)\n",
    "stats.kstest(x, 'uniform')"
   ]
  },
  {
   "cell_type": "code",
   "execution_count": null,
   "metadata": {
    "collapsed": true
   },
   "outputs": [],
   "source": []
  },
  {
   "cell_type": "code",
   "execution_count": null,
   "metadata": {
    "collapsed": true
   },
   "outputs": [],
   "source": []
  }
 ],
 "metadata": {
  "anaconda-cloud": {},
  "kernelspec": {
   "display_name": "Python [Root]",
   "language": "python",
   "name": "Python [Root]"
  },
  "language_info": {
   "codemirror_mode": {
    "name": "ipython",
    "version": 3
   },
   "file_extension": ".py",
   "mimetype": "text/x-python",
   "name": "python",
   "nbconvert_exporter": "python",
   "pygments_lexer": "ipython3",
   "version": "3.5.2"
  }
 },
 "nbformat": 4,
 "nbformat_minor": 0
}
