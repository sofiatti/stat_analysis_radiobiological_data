{
 "cells": [
  {
   "cell_type": "code",
   "execution_count": 7,
   "metadata": {
    "collapsed": false
   },
   "outputs": [
    {
     "name": "stdout",
     "output_type": "stream",
     "text": [
      "\u001b[31mBishayee Colony Counts 10.27.97-3.8.01.xlsx\u001b[m\u001b[m*\r\n",
      "\u001b[31mBishayee Coulter Counts.10.20.97-7.16.01.xlsx\u001b[m\u001b[m*\r\n",
      "\u001b[31mOther Investigators in Lab.Colony Counts.4.23.92-11.27.02.xlsx\u001b[m\u001b[m*\r\n",
      "\u001b[31mOther Investigators in Lab.Coulter Counts.4.15.92-5.21.05.xlsx\u001b[m\u001b[m*\r\n",
      "\u001b[31mOutside Lab 1.Coulter Counts.6.7.91-4.9.99.xlsx\u001b[m\u001b[m*\r\n",
      "\u001b[31mOutside Lab 2.Coulter Counts.6.6.08-7.7.08.xlsx\u001b[m\u001b[m*\r\n",
      "\u001b[31mOutside Lab 3.Colony Counts.2.4.10-5.21.12.xlsx\u001b[m\u001b[m*\r\n",
      "~$Bishayee Colony Counts 10.27.97-3.8.01.xlsx\r\n",
      "~$Bishayee Coulter Counts.10.20.97-7.16.01.xlsx\r\n"
     ]
    }
   ],
   "source": [
    "ls data/"
   ]
  },
  {
   "cell_type": "code",
   "execution_count": 14,
   "metadata": {
    "collapsed": false
   },
   "outputs": [],
   "source": [
    "import pandas as pd\n",
    "from scipy.stats import chisquare\n",
    "from scipy import stats\n",
    "import numpy as np\n",
    "rst_colony = pd.read_excel('data/Bishayee Colony Counts 10.27.97-3.8.01.xlsx', header=1)\n",
    "rst_coulter = pd.read_excel('data/Bishayee Coulter Counts.10.20.97-7.16.01.xlsx', header=1)\n",
    "other_colony = pd.read_excel('data/Other Investigators in Lab.Colony Counts.4.23.92-11.27.02.xlsx', header=1)\n",
    "other_coulter = pd.read_excel('data/Other Investigators in Lab.Coulter Counts.4.15.92-5.21.05.xlsx', header=1)\n",
    "outside_1_coulter = pd.read_excel('data/Outside Lab 1.Coulter Counts.6.7.91-4.9.99.xlsx', header=1)\n",
    "outside_2_coulter = pd.read_excel('data/Outside Lab 2.Coulter Counts.6.6.08-7.7.08.xlsx', header=1)\n",
    "outside_3_colony = pd.read_excel('data/Outside Lab 3.Colony Counts.2.4.10-5.21.12.xlsx',header=1)"
   ]
  },
  {
   "cell_type": "code",
   "execution_count": 43,
   "metadata": {
    "collapsed": false
   },
   "outputs": [
    {
     "name": "stdout",
     "output_type": "stream",
     "text": [
      "8\n",
      "F\n",
      "Power_divergenceResult(statistic=6.967741935483871, pvalue=0.64047806787966199)\n",
      "G\n",
      "Power_divergenceResult(statistic=5.333333333333333, pvalue=0.80433676754882999)\n",
      "D\n",
      "Power_divergenceResult(statistic=21.84375, pvalue=0.0093875887645092637)\n",
      "B\n",
      "Power_divergenceResult(statistic=5.8888888888888884, pvalue=0.75098523412111262)\n",
      "C\n",
      "Power_divergenceResult(statistic=14.578947368421053, pvalue=0.10317000123115071)\n",
      "E\n",
      "Power_divergenceResult(statistic=9.1212121212121229, pvalue=0.42616138419024796)\n",
      "A\n",
      "Power_divergenceResult(statistic=8.1023151605675885, pvalue=0.52386915850053883)\n",
      "I\n",
      "Power_divergenceResult(statistic=9.4183006535947715, pvalue=0.39959070674973202)\n"
     ]
    }
   ],
   "source": [
    "# Process Other_coulter\n",
    "data = other_coulter\n",
    "#term_digits=[]\n",
    "term_digits = {'I':[], 'A':[], 'B':[], 'C':[], 'E':[], 'D':[], 'F':[], 'G':[]}\n",
    "#list(data.columns.values)\n",
    "for count in range(0,len(data)):\n",
    "    if np.isnan(data['Coul 1'][count]):\n",
    "        dt=1\n",
    "    else:\n",
    "        dt = str(data['Investigator'][count]).rstrip('\\n')\n",
    "        term_digits[dt].append((int(data['Coul 1'][count]))%10)\n",
    "    if np.isnan(data['Coul 2'][count]):\n",
    "        dt=1\n",
    "        #print(type(data.col2[count]))\n",
    "    else:\n",
    "        dt = str(data['Investigator'][count]).rstrip('\\n')\n",
    "        term_digits[dt].append((int(data['Coul 2'][count]))%10)\n",
    "    if np.isnan(data['Coul 3'][count]):\n",
    "        dt=1\n",
    "#        #print(type(data.col3[count]))\n",
    "    else:\n",
    "        dt = str(data['Investigator'][count]).rstrip('\\n')\n",
    "        term_digits[dt].append((int(data['Coul 3'][count]))%10)\n",
    "# #chi2 test\n",
    "digit_occur = {'I':[], 'A':[], 'B':[], 'C':[], 'E':[], 'D':[], 'F':[], 'G':[]}\n",
    "for i in range(0,10):\n",
    "    for key in digit_occur.keys():\n",
    "        digit_occur[key].append(term_digits[key].count(i))\n",
    "    \n",
    "print(len(term_digits))\n",
    "for key in digit_occur.keys():\n",
    "    print(key)\n",
    "    print(chisquare(digit_occur[key]))\n",
    "# print(digit_occur)\n",
    "# prob_digit_occur = [0.0]*10\n",
    "# for i in range(0,10):\n",
    "#     prob_digit_occur[i]= digit_occur[i]/sum(digit_occur)\n",
    "# print(chisquare(prob_digit_occur))\n",
    "# x = np.array(digit_occur)\n",
    "# x = x/np.sum(x)\n",
    "# print(x)\n",
    "# stats.kstest(x, 'uniform')"
   ]
  },
  {
   "cell_type": "code",
   "execution_count": null,
   "metadata": {
    "collapsed": true
   },
   "outputs": [],
   "source": []
  },
  {
   "cell_type": "code",
   "execution_count": null,
   "metadata": {
    "collapsed": true
   },
   "outputs": [],
   "source": []
  }
 ],
 "metadata": {
  "anaconda-cloud": {},
  "kernelspec": {
   "display_name": "Python [Root]",
   "language": "python",
   "name": "Python [Root]"
  },
  "language_info": {
   "codemirror_mode": {
    "name": "ipython",
    "version": 3
   },
   "file_extension": ".py",
   "mimetype": "text/x-python",
   "name": "python",
   "nbconvert_exporter": "python",
   "pygments_lexer": "ipython3",
   "version": "3.5.2"
  }
 },
 "nbformat": 4,
 "nbformat_minor": 0
}
