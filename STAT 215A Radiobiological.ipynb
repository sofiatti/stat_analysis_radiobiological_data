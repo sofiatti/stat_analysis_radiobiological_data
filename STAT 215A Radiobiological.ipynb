{
 "cells": [
  {
   "cell_type": "code",
   "execution_count": 238,
   "metadata": {
    "collapsed": true
   },
   "outputs": [],
   "source": [
    "import pandas as pd\n",
    "import numpy as np\n",
    "import matplotlib.pyplot as plt\n",
    "from itertools import groupby\n",
    "import scipy.stats"
   ]
  },
  {
   "cell_type": "code",
   "execution_count": 13,
   "metadata": {
    "collapsed": false
   },
   "outputs": [],
   "source": [
    "RTSColony=pd.read_excel('RTS Colony.xlsx')\n",
    "RTSCoulter = pd.read_excel('RTS Coulter.xlsx')\n",
    "LabmatesColony=pd.read_excel('Labmates Colony.xlsx')\n",
    "LabmatesCoulter = pd.read_excel('Labmates Coulter.xlsx')\n",
    "Lab1Coulter = pd.read_excel('Outside Lab 1 Coulter.xlsx')\n",
    "Lab2Coulter = pd.read_excel('Outside Lab 2 Coulter.xlsx')\n",
    "Lab3Colony=pd.read_excel('Outside Lab 3 Colony.xlsx')"
   ]
  },
  {
   "cell_type": "markdown",
   "metadata": {},
   "source": [
    "# Data Cleaning"
   ]
  },
  {
   "cell_type": "code",
   "execution_count": 283,
   "metadata": {
    "collapsed": false
   },
   "outputs": [],
   "source": [
    "def clean(df,minlength):\n",
    "    dataframe = df[~((pd.isnull(df)).any(1))] #remove rows with NaN\n",
    "    frames = [dataframe.ix[:,0], dataframe.ix[:,1], dataframe.ix[:,2]]\n",
    "    result = pd.concat(frames)\n",
    "    result = result.values.tolist()\n",
    "    result = filter(lambda e: isinstance(e, int) or isinstance(e, float) , result) #making sure i only have floats or ints\n",
    "    result = filter(lambda e: e-int(e)==0, result) #checking that the floats i have are only those that ends with .0 \n",
    "                                                   #this would deal with the problematic case of Lab1CoulterC\n",
    "    result = [ int(x) for x in result ] #convert those float .0 cases into integers\n",
    "    result = filter(lambda e: len(str(e))>=minlength, result)\n",
    "    if minlength == 2:\n",
    "        result = [ int(str(x)[len(str(x))-1]) for x in result ]\n",
    "    elif minlength ==3:\n",
    "        result = [ int(str(x)[len(str(x))-1])== int(str(x)[len(str(x))-2]) for x in result ]\n",
    "        result = [int(x) for x in result]\n",
    "    else:\n",
    "        raise ValueError('minlength =2 or 3, please!')\n",
    "        \n",
    "    return result"
   ]
  },
  {
   "cell_type": "code",
   "execution_count": 228,
   "metadata": {
    "collapsed": false,
    "scrolled": true
   },
   "outputs": [
    {
     "name": "stdout",
     "output_type": "stream",
     "text": [
      "5181 2787 291 360 3974 1680 150\n"
     ]
    }
   ],
   "source": [
    "#keeping only entries with 2 digits and longer\n",
    "\n",
    "RTSColonyC2=clean(RTSColony.ix[2:,3:6],2)\n",
    "RTSCoulterC2 = clean(RTSCoulter.ix[1:,2:5],2)\n",
    "LabmatesColonyC2 = clean(LabmatesColony.ix[1:,3:6],2)\n",
    "LabmatesCoulterC2 = clean(LabmatesCoulter.ix[1:,2:5],2)\n",
    "Lab1CoulterC2 = clean(Lab1Coulter.ix[:,1:4],2)\n",
    "Lab2CoulterC2 = clean(Lab2Coulter.ix[1:,1:4],2)\n",
    "Lab3ColonyC2 = clean(Lab3Colony.ix[1:,1:4],2)\n",
    "\n",
    "print len(RTSCoulterC2),len(LabmatesCoulterC2),len(Lab1CoulterC2),len(Lab2CoulterC2),len(RTSColonyC2),len(LabmatesColonyC2),len(Lab3ColonyC2)"
   ]
  },
  {
   "cell_type": "code",
   "execution_count": 268,
   "metadata": {
    "collapsed": false
   },
   "outputs": [],
   "source": [
    "def PrintCountsAndTestResults(inputt):\n",
    "    sortedinput=sorted(inputt)\n",
    "    output = [len(list(group)) for key, group in groupby(sortedinput)]\n",
    "    #print output\n",
    "    return output"
   ]
  },
  {
   "cell_type": "code",
   "execution_count": 265,
   "metadata": {
    "collapsed": false
   },
   "outputs": [],
   "source": [
    "def produceData(inData):\n",
    "    counts = PrintCountsAndTestResults(inData)\n",
    "    expectedFreq = [(1.0/10)*sum(counts)]*len(counts)\n",
    "    print len(inData)\n",
    "    chi2, p = scipy.stats.chisquare( counts ,expectedFreq)\n",
    "    msg = \"Test Statistic: {}\\np-value: {}\"\n",
    "    print( msg.format( chi2, p ) )\n",
    "    print \" \""
   ]
  },
  {
   "cell_type": "code",
   "execution_count": 269,
   "metadata": {
    "collapsed": false,
    "scrolled": false
   },
   "outputs": [
    {
     "name": "stdout",
     "output_type": "stream",
     "text": [
      "5181\n",
      "[474, 613, 736, 416, 334, 732, 363, 424, 371, 718]\n",
      "[518.1, 518.1, 518.1, 518.1, 518.1, 518.1, 518.1, 518.1, 518.1, 518.1]\n",
      "Test Statistic: 469.042462845\n",
      "p-value: 2.42783222061e-95\n",
      " \n",
      "2787\n",
      "[245, 286, 281, 244, 304, 270, 286, 268, 316, 287]\n",
      "[278.7, 278.7, 278.7, 278.7, 278.7, 278.7, 278.7, 278.7, 278.7, 278.7]\n",
      "Test Statistic: 17.0150699677\n",
      "p-value: 0.0484805043482\n",
      " \n",
      "291\n",
      "[27, 34, 25, 23, 25, 33, 42, 29, 25, 28]\n",
      "[29.1, 29.1, 29.1, 29.1, 29.1, 29.1, 29.1, 29.1, 29.1, 29.1]\n",
      "Test Statistic: 10.2714776632\n",
      "p-value: 0.328958011902\n",
      " \n",
      "360\n",
      "[34, 38, 45, 35, 32, 42, 31, 35, 35, 33]\n",
      "[36.0, 36.0, 36.0, 36.0, 36.0, 36.0, 36.0, 36.0, 36.0, 36.0]\n",
      "Test Statistic: 4.94444444444\n",
      "p-value: 0.839124024195\n",
      " \n",
      "3974\n",
      "[561, 307, 444, 296, 279, 469, 330, 398, 377, 513]\n",
      "[397.40000000000003, 397.40000000000003, 397.40000000000003, 397.40000000000003, 397.40000000000003, 397.40000000000003, 397.40000000000003, 397.40000000000003, 397.40000000000003, 397.40000000000003]\n",
      "Test Statistic: 213.53397081\n",
      "p-value: 4.7852904628e-41\n",
      " \n",
      "1680\n",
      "[176, 170, 177, 167, 170, 161, 165, 160, 162, 172]\n",
      "[168.0, 168.0, 168.0, 168.0, 168.0, 168.0, 168.0, 168.0, 168.0, 168.0]\n",
      "Test Statistic: 1.95238095238\n",
      "p-value: 0.99219842169\n",
      " \n",
      "150\n",
      "[21, 9, 15, 16, 19, 19, 9, 19, 11, 12]\n",
      "[15.0, 15.0, 15.0, 15.0, 15.0, 15.0, 15.0, 15.0, 15.0, 15.0]\n",
      "Test Statistic: 12.1333333333\n",
      "p-value: 0.205896575103\n",
      " \n"
     ]
    }
   ],
   "source": [
    "produceData(RTSCoulterC2)\n",
    "produceData(LabmatesCoulterC2)\n",
    "produceData(Lab1CoulterC2)\n",
    "produceData(Lab2CoulterC2)\n",
    "produceData(RTSColonyC2)\n",
    "produceData(LabmatesColonyC2)\n",
    "produceData(Lab3ColonyC2)"
   ]
  },
  {
   "cell_type": "code",
   "execution_count": 247,
   "metadata": {
    "collapsed": false
   },
   "outputs": [
    {
     "name": "stdout",
     "output_type": "stream",
     "text": [
      "5180 2732 282 360 1660 488 7\n"
     ]
    }
   ],
   "source": [
    "#keeping only entries with 3 digits and longer\n",
    "\n",
    "RTSColonyC3=clean(RTSColony.ix[2:,3:6],3)\n",
    "RTSCoulterC3 = clean(RTSCoulter.ix[1:,2:5],3)\n",
    "LabmatesColonyC3 = clean(LabmatesColony.ix[1:,3:6],3)\n",
    "LabmatesCoulterC3 = clean(LabmatesCoulter.ix[1:,2:5],3)\n",
    "Lab1CoulterC3 = clean(Lab1Coulter.ix[:,1:4],3)\n",
    "Lab2CoulterC3 = clean(Lab2Coulter.ix[1:,1:4],3)\n",
    "Lab3ColonyC3 = clean(Lab3Colony.ix[1:,1:4],3)\n",
    "\n",
    "print len(RTSCoulterC3),len(LabmatesCoulterC3),len(Lab1CoulterC3),len(Lab2CoulterC3),len(RTSColonyC3),len(LabmatesColonyC3),len(Lab3ColonyC3)"
   ]
  },
  {
   "cell_type": "code",
   "execution_count": 270,
   "metadata": {
    "collapsed": false,
    "scrolled": false
   },
   "outputs": [
    {
     "name": "stdout",
     "output_type": "stream",
     "text": [
      "5180\n",
      "[474, 613, 736, 416, 334, 731, 363, 424, 371, 718]\n",
      "[518.0, 518.0, 518.0, 518.0, 518.0, 518.0, 518.0, 518.0, 518.0, 518.0]\n",
      "Test Statistic: 468.308880309\n",
      "p-value: 3.48453733736e-95\n",
      " \n",
      "2732\n",
      "[243, 281, 275, 242, 296, 260, 282, 259, 313, 281]\n",
      "[273.2, 273.2, 273.2, 273.2, 273.2, 273.2, 273.2, 273.2, 273.2, 273.2]\n",
      "Test Statistic: 16.7188872621\n",
      "p-value: 0.053304527529\n",
      " \n",
      "282\n",
      "[26, 33, 25, 20, 25, 33, 41, 28, 24, 27]\n",
      "[28.200000000000003, 28.200000000000003, 28.200000000000003, 28.200000000000003, 28.200000000000003, 28.200000000000003, 28.200000000000003, 28.200000000000003, 28.200000000000003, 28.200000000000003]\n",
      "Test Statistic: 11.4042553191\n",
      "p-value: 0.249013396641\n",
      " \n",
      "360\n",
      "[34, 38, 45, 35, 32, 42, 31, 35, 35, 33]\n",
      "[36.0, 36.0, 36.0, 36.0, 36.0, 36.0, 36.0, 36.0, 36.0, 36.0]\n",
      "Test Statistic: 4.94444444444\n",
      "p-value: 0.839124024195\n",
      " \n",
      "1660\n",
      "[257, 149, 191, 103, 89, 214, 114, 168, 122, 253]\n",
      "[166.0, 166.0, 166.0, 166.0, 166.0, 166.0, 166.0, 166.0, 166.0, 166.0]\n",
      "Test Statistic: 202.469879518\n",
      "p-value: 1.00545185452e-38\n",
      " \n",
      "488\n",
      "[57, 46, 52, 53, 43, 53, 43, 42, 47, 52]\n",
      "[48.800000000000004, 48.800000000000004, 48.800000000000004, 48.800000000000004, 48.800000000000004, 48.800000000000004, 48.800000000000004, 48.800000000000004, 48.800000000000004, 48.800000000000004]\n",
      "Test Statistic: 5.0737704918\n",
      "p-value: 0.827830646214\n",
      " \n",
      "7\n",
      "[1, 2, 1, 1, 2]\n",
      "[0.7000000000000001, 0.7000000000000001, 0.7000000000000001, 0.7000000000000001, 0.7000000000000001]\n",
      "Test Statistic: 5.21428571429\n",
      "p-value: 0.266008543984\n",
      " \n"
     ]
    }
   ],
   "source": [
    "produceData(RTSCoulterC3)\n",
    "produceData(LabmatesCoulterC3)\n",
    "produceData(Lab1CoulterC3)\n",
    "produceData(Lab2CoulterC3)\n",
    "produceData(RTSColonyC3)\n",
    "produceData(LabmatesColonyC3)\n",
    "produceData(Lab3ColonyC3)"
   ]
  },
  {
   "cell_type": "code",
   "execution_count": 308,
   "metadata": {
    "collapsed": true
   },
   "outputs": [],
   "source": [
    "RTSColonyC3=clean(RTSColony.ix[2:,3:6],3)\n",
    "RTSCoulterC3 = clean(RTSCoulter.ix[1:,2:5],3)\n",
    "LabmatesColonyC3 = clean(LabmatesColony.ix[1:,3:6],3)\n",
    "LabmatesCoulterC3 = clean(LabmatesCoulter.ix[1:,2:5],3)\n",
    "Lab1CoulterC3 = clean(Lab1Coulter.ix[:,1:4],3)\n",
    "Lab2CoulterC3 = clean(Lab2Coulter.ix[1:,1:4],3)\n",
    "Lab3ColonyC3 = clean(Lab3Colony.ix[1:,1:4],3)\n",
    "    "
   ]
  },
  {
   "cell_type": "code",
   "execution_count": 311,
   "metadata": {
    "collapsed": false,
    "scrolled": true
   },
   "outputs": [
    {
     "name": "stdout",
     "output_type": "stream",
     "text": [
      "643 5180 0.124131274131\n"
     ]
    }
   ],
   "source": [
    "summ = sum(RTSCoulterC3)\n",
    "RTSCoulterEqualPercentage = float(summ)/len(RTSCoulterC3)\n",
    "print summ, len(RTSCoulterC3), RTSCoulterEqualPercentageb"
   ]
  },
  {
   "cell_type": "code",
   "execution_count": 363,
   "metadata": {
    "collapsed": false
   },
   "outputs": [],
   "source": [
    "import operator as op\n",
    "from scipy.stats import binom\n",
    "import math\n",
    "def ncr(n, r):\n",
    "    r = min(r, n-r)\n",
    "    if r == 0: return 1\n",
    "    numer = reduce(op.mul, xrange(n, n-r, -1))\n",
    "    denom = reduce(op.mul, xrange(1, r+1))\n",
    "    return numer//denom\n",
    "\n",
    "def probOfGreaterNumOfPairs(n,m):\n",
    "    prob = 0.0\n",
    "    for i in range(n, m+1):\n",
    "        inner = math.log(ncr(m,i))+math.log(math.pow(1.0/10, i)) + math.log(math.pow(1.0-1.0/10, m-i))\n",
    "        print inner\n",
    "        prob += math.exp(inner)\n",
    "        print prob\n",
    "    return prob\n",
    "        "
   ]
  },
  {
   "cell_type": "code",
   "execution_count": 411,
   "metadata": {
    "collapsed": false
   },
   "outputs": [
    {
     "data": {
      "text/plain": [
       "1.1645770021744995e-08"
      ]
     },
     "execution_count": 411,
     "metadata": {},
     "output_type": "execute_result"
    }
   ],
   "source": [
    "binom.sf(642, 5180, 1.0/10, loc=0)"
   ]
  },
  {
   "cell_type": "code",
   "execution_count": 312,
   "metadata": {
    "collapsed": false
   },
   "outputs": [
    {
     "name": "stdout",
     "output_type": "stream",
     "text": [
      "332 3374 0.0983995257854\n"
     ]
    }
   ],
   "source": [
    "summ = sum(othersCoulter)\n",
    "othersCoulter = LabmatesCoulterC3 + Lab1CoulterC3 + Lab2CoulterC3\n",
    "othersCoulterEqualPercentage = float(summ)/len(othersCoulter)\n",
    "print summ, len(othersCoulter), othersCoulterEqualPercentage"
   ]
  },
  {
   "cell_type": "code",
   "execution_count": 408,
   "metadata": {
    "collapsed": false
   },
   "outputs": [
    {
     "data": {
      "text/plain": [
       "0.60800471243520027"
      ]
     },
     "execution_count": 408,
     "metadata": {},
     "output_type": "execute_result"
    }
   ],
   "source": [
    "binom.sf(332, 3374, 1.0/10, loc=0)"
   ]
  },
  {
   "cell_type": "code",
   "execution_count": null,
   "metadata": {
    "collapsed": true
   },
   "outputs": [],
   "source": []
  }
 ],
 "metadata": {
  "kernelspec": {
   "display_name": "python2",
   "language": "python",
   "name": "python2"
  },
  "language_info": {
   "codemirror_mode": {
    "name": "ipython",
    "version": 2
   },
   "file_extension": ".py",
   "mimetype": "text/x-python",
   "name": "python",
   "nbconvert_exporter": "python",
   "pygments_lexer": "ipython2",
   "version": "2.7.10"
  }
 },
 "nbformat": 4,
 "nbformat_minor": 0
}
